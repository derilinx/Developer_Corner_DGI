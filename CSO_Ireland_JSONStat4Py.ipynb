{
 "cells": [
  {
   "cell_type": "markdown",
   "metadata": {},
   "source": [
    "## Accessing the Central Statistics Office (CSO) API with JSON-stat for Python"
   ]
  },
  {
   "cell_type": "markdown",
   "metadata": {},
   "source": [
    "This notebook demonstrates how to access the Statbank API for Central Statistics Office (CSO) Ireland.\n",
    "The [Statbank API](https://www.cso.ie/webserviceclient/) utilises the [JSON-stat](https://www.cso.ie/webserviceclient/) format for encoding statistical information. This can be accessed using the [jsonstat.py](https://github.com/26fe/jsonstat.py) library for Python by [Giovanni F](http://www.26fe.com/). Further documentation is available online: [jsonstat.py](https://jsonstatpy.readthedocs.io/en/latest/)."
   ]
  },
  {
   "cell_type": "markdown",
   "metadata": {},
   "source": [
    "#### Import Packages"
   ]
  },
  {
   "cell_type": "code",
   "execution_count": 1,
   "metadata": {},
   "outputs": [],
   "source": [
    "from os import path\n",
    "import jsonstat\n",
    "import matplotlib.pyplot as plt\n",
    "import pandas as pd"
   ]
  },
  {
   "cell_type": "markdown",
   "metadata": {},
   "source": [
    "#### Create a cache directory to store copies of downloaded data for faster development and consistency"
   ]
  },
  {
   "cell_type": "code",
   "execution_count": 2,
   "metadata": {},
   "outputs": [
    {
     "data": {
      "text/plain": [
       "'D:\\\\GitHub Repositories\\\\Python\\\\Test_Data\\\\CSO_Test_DATA'"
      ]
     },
     "execution_count": 2,
     "metadata": {},
     "output_type": "execute_result"
    }
   ],
   "source": [
    "cache_dir = path.abspath(path.join(\"..\", \"Test_Data\", \"CSO_Test_DATA\"))\n",
    "jsonstat.cache_dir(cache_dir)"
   ]
  },
  {
   "cell_type": "markdown",
   "metadata": {},
   "source": [
    "#### Identify CSO JSON table to download by table number"
   ]
  },
  {
   "cell_type": "code",
   "execution_count": 3,
   "metadata": {},
   "outputs": [],
   "source": [
    "#Provide table identifier\n",
    "table_id = \"QLF08\"\n",
    "\n",
    "#Provide base url\n",
    "base_uri = 'https://statbank.cso.ie/StatbankServices/StatbankServices.svc/jsonservice/responseinstance/'\n",
    "uri = base_uri + table_id\n",
    "\n",
    "#Specify name for cached file\n",
    "filename = \"cso_ie_\" + table_id + \".json\""
   ]
  },
  {
   "cell_type": "markdown",
   "metadata": {},
   "source": [
    "#### Load data into a collection"
   ]
  },
  {
   "cell_type": "code",
   "execution_count": 4,
   "metadata": {},
   "outputs": [
    {
     "name": "stdout",
     "output_type": "stream",
     "text": [
      "JsonstatCollection contains the following JsonStatDataSet:\n",
      "+-----+-----------+\n",
      "| pos | dataset   |\n",
      "+-----+-----------+\n",
      "| 0   | 'dataset' |\n",
      "+-----+-----------+\n"
     ]
    }
   ],
   "source": [
    "collection = jsonstat.from_url(uri, filename)\n",
    "print(collection)"
   ]
  },
  {
   "cell_type": "markdown",
   "metadata": {},
   "source": [
    "#### Select the first dataset in the collection and print its description"
   ]
  },
  {
   "cell_type": "code",
   "execution_count": 5,
   "metadata": {},
   "outputs": [
    {
     "name": "stdout",
     "output_type": "stream",
     "text": [
      "name:   'dataset'\n",
      "label:  'Persons aged 15 years and over by Region, Quarter and Statistic'\n",
      "source: 'Persons aged 15 years and over by Region, Quarter and Statistic'\n",
      "size: 1800\n",
      "+-----+-----------+-----------+------+--------+\n",
      "| pos | id        | label     | size | role   |\n",
      "+-----+-----------+-----------+------+--------+\n",
      "| 0   | Region    | Region    | 12   |        |\n",
      "| 1   | Quarter   | Quarter   | 30   | time   |\n",
      "| 2   | Statistic | Statistic | 5    | metric |\n",
      "+-----+-----------+-----------+------+--------+\n"
     ]
    }
   ],
   "source": [
    "dataset = collection.dataset(0)\n",
    "print(dataset)"
   ]
  },
  {
   "cell_type": "markdown",
   "metadata": {},
   "source": [
    "#### Print dimensions of the dataset for reveiw"
   ]
  },
  {
   "cell_type": "code",
   "execution_count": 6,
   "metadata": {},
   "outputs": [
    {
     "name": "stdout",
     "output_type": "stream",
     "text": [
      "+-----+---------+------------------------+\n",
      "| pos | idx     | label                  |\n",
      "+-----+---------+------------------------+\n",
      "| 0   | '-'     | 'State'                |\n",
      "| 1   | 'IE04'  | 'Northern and Western' |\n",
      "| 2   | 'IE041' | 'Border'               |\n",
      "| 3   | 'IE042' | 'West'                 |\n",
      "| 4   | 'IE05'  | 'Southern'             |\n",
      "| 5   | 'IE051' | 'Mid-West'             |\n",
      "| 6   | 'IE052' | 'South-East'           |\n",
      "| 7   | 'IE053' | 'South-West'           |\n",
      "| 8   | 'IE06'  | 'Eastern and Midland'  |\n",
      "| 9   | 'IE061' | 'Dublin'               |\n",
      "| 10  | 'IE062' | 'Mid-East'             |\n",
      "| 11  | 'IE063' | 'Midland'              |\n",
      "+-----+---------+------------------------+\n",
      "+-----+----------+----------+\n",
      "| pos | idx      | label    |\n",
      "+-----+----------+----------+\n",
      "| 0   | '2012Q1' | '2012Q1' |\n",
      "| 1   | '2012Q2' | '2012Q2' |\n",
      "| 2   | '2012Q3' | '2012Q3' |\n",
      "| 3   | '2012Q4' | '2012Q4' |\n",
      "| 4   | '2013Q1' | '2013Q1' |\n",
      "| 5   | '2013Q2' | '2013Q2' |\n",
      "| 6   | '2013Q3' | '2013Q3' |\n",
      "| 7   | '2013Q4' | '2013Q4' |\n",
      "| 8   | '2014Q1' | '2014Q1' |\n",
      "| 9   | '2014Q2' | '2014Q2' |\n",
      "| 10  | '2014Q3' | '2014Q3' |\n",
      "| 11  | '2014Q4' | '2014Q4' |\n",
      "| 12  | '2015Q1' | '2015Q1' |\n",
      "| 13  | '2015Q2' | '2015Q2' |\n",
      "| 14  | '2015Q3' | '2015Q3' |\n",
      "| 15  | '2015Q4' | '2015Q4' |\n",
      "| 16  | '2016Q1' | '2016Q1' |\n",
      "| 17  | '2016Q2' | '2016Q2' |\n",
      "| 18  | '2016Q3' | '2016Q3' |\n",
      "| 19  | '2016Q4' | '2016Q4' |\n",
      "| 20  | '2017Q1' | '2017Q1' |\n",
      "| 21  | '2017Q2' | '2017Q2' |\n",
      "| 22  | '2017Q3' | '2017Q3' |\n",
      "| 23  | '2017Q4' | '2017Q4' |\n",
      "| 24  | '2018Q1' | '2018Q1' |\n",
      "| 25  | '2018Q2' | '2018Q2' |\n",
      "| 26  | '2018Q3' | '2018Q3' |\n",
      "| 27  | '2018Q4' | '2018Q4' |\n",
      "| 28  | '2019Q1' | '2019Q1' |\n",
      "| 29  | '2019Q2' | '2019Q2' |\n",
      "+-----+----------+----------+\n",
      "+-----+------------+-------------------------------------------------------------+\n",
      "| pos | idx        | label                                                       |\n",
      "+-----+------------+-------------------------------------------------------------+\n",
      "| 0   | 'QLF08C01' | 'Persons aged 15 years and over in Employment (Thousand)'   |\n",
      "| 1   | 'QLF08C02' | 'Unemployed Persons aged 15 years and over (Thousand)'      |\n",
      "| 2   | 'QLF08C03' | 'Persons aged 15 years and over in Labour Force (Thousand)' |\n",
      "| 3   | 'QLF08C04' | 'ILO Unemployment Rate (15 - 74 years) (%)'                 |\n",
      "| 4   | 'QLF08C05' | 'ILO Participation Rate (15 years and over) (%)'            |\n",
      "+-----+------------+-------------------------------------------------------------+\n"
     ]
    }
   ],
   "source": [
    "print(dataset.dimension('Region'))\n",
    "print(dataset.dimension('Quarter'))\n",
    "print(dataset.dimension('Statistic'))"
   ]
  },
  {
   "cell_type": "markdown",
   "metadata": {},
   "source": [
    "#### Return a value"
   ]
  },
  {
   "cell_type": "markdown",
   "metadata": {},
   "source": [
    "In this case we'll select the value associated with the statistic for the number of unemployed people (thousands) in Dublin for the first quarter of 2019."
   ]
  },
  {
   "cell_type": "code",
   "execution_count": 7,
   "metadata": {},
   "outputs": [
    {
     "data": {
      "text/plain": [
       "JsonStatValue(idx=1491, value=32.1, status=None)"
      ]
     },
     "execution_count": 7,
     "metadata": {},
     "output_type": "execute_result"
    }
   ],
   "source": [
    "dataset.data(Region='Dublin', Quarter='2019Q1', Statistic='QLF08C02')"
   ]
  },
  {
   "cell_type": "code",
   "execution_count": 8,
   "metadata": {},
   "outputs": [
    {
     "data": {
      "text/plain": [
       "32.1"
      ]
     },
     "execution_count": 8,
     "metadata": {},
     "output_type": "execute_result"
    }
   ],
   "source": [
    "dataset.value(Region='Dublin', Quarter='2019Q1', Statistic='QLF08C02')"
   ]
  },
  {
   "cell_type": "markdown",
   "metadata": {},
   "source": [
    "#### Convert dataset to a Pandas data frame"
   ]
  },
  {
   "cell_type": "code",
   "execution_count": 9,
   "metadata": {},
   "outputs": [
    {
     "data": {
      "text/html": [
       "<div>\n",
       "<style scoped>\n",
       "    .dataframe tbody tr th:only-of-type {\n",
       "        vertical-align: middle;\n",
       "    }\n",
       "\n",
       "    .dataframe tbody tr th {\n",
       "        vertical-align: top;\n",
       "    }\n",
       "\n",
       "    .dataframe thead th {\n",
       "        text-align: right;\n",
       "    }\n",
       "</style>\n",
       "<table border=\"1\" class=\"dataframe\">\n",
       "  <thead>\n",
       "    <tr style=\"text-align: right;\">\n",
       "      <th></th>\n",
       "      <th>Region</th>\n",
       "      <th>Quarter</th>\n",
       "      <th>Statistic</th>\n",
       "      <th>Value</th>\n",
       "    </tr>\n",
       "  </thead>\n",
       "  <tbody>\n",
       "    <tr>\n",
       "      <th>0</th>\n",
       "      <td>State</td>\n",
       "      <td>2012Q1</td>\n",
       "      <td>Persons aged 15 years and over in Employment (...</td>\n",
       "      <td>1863.2</td>\n",
       "    </tr>\n",
       "    <tr>\n",
       "      <th>1</th>\n",
       "      <td>State</td>\n",
       "      <td>2012Q1</td>\n",
       "      <td>Unemployed Persons aged 15 years and over (Tho...</td>\n",
       "      <td>348.1</td>\n",
       "    </tr>\n",
       "    <tr>\n",
       "      <th>2</th>\n",
       "      <td>State</td>\n",
       "      <td>2012Q1</td>\n",
       "      <td>Persons aged 15 years and over in Labour Force...</td>\n",
       "      <td>2211.3</td>\n",
       "    </tr>\n",
       "    <tr>\n",
       "      <th>3</th>\n",
       "      <td>State</td>\n",
       "      <td>2012Q1</td>\n",
       "      <td>ILO Unemployment Rate (15 - 74 years) (%)</td>\n",
       "      <td>15.8</td>\n",
       "    </tr>\n",
       "    <tr>\n",
       "      <th>4</th>\n",
       "      <td>State</td>\n",
       "      <td>2012Q1</td>\n",
       "      <td>ILO Participation Rate (15 years and over) (%)</td>\n",
       "      <td>61.4</td>\n",
       "    </tr>\n",
       "    <tr>\n",
       "      <th>5</th>\n",
       "      <td>State</td>\n",
       "      <td>2012Q2</td>\n",
       "      <td>Persons aged 15 years and over in Employment (...</td>\n",
       "      <td>1878.0</td>\n",
       "    </tr>\n",
       "    <tr>\n",
       "      <th>6</th>\n",
       "      <td>State</td>\n",
       "      <td>2012Q2</td>\n",
       "      <td>Unemployed Persons aged 15 years and over (Tho...</td>\n",
       "      <td>352.7</td>\n",
       "    </tr>\n",
       "    <tr>\n",
       "      <th>7</th>\n",
       "      <td>State</td>\n",
       "      <td>2012Q2</td>\n",
       "      <td>Persons aged 15 years and over in Labour Force...</td>\n",
       "      <td>2230.7</td>\n",
       "    </tr>\n",
       "    <tr>\n",
       "      <th>8</th>\n",
       "      <td>State</td>\n",
       "      <td>2012Q2</td>\n",
       "      <td>ILO Unemployment Rate (15 - 74 years) (%)</td>\n",
       "      <td>15.9</td>\n",
       "    </tr>\n",
       "    <tr>\n",
       "      <th>9</th>\n",
       "      <td>State</td>\n",
       "      <td>2012Q2</td>\n",
       "      <td>ILO Participation Rate (15 years and over) (%)</td>\n",
       "      <td>61.9</td>\n",
       "    </tr>\n",
       "  </tbody>\n",
       "</table>\n",
       "</div>"
      ],
      "text/plain": [
       "  Region Quarter                                          Statistic   Value\n",
       "0  State  2012Q1  Persons aged 15 years and over in Employment (...  1863.2\n",
       "1  State  2012Q1  Unemployed Persons aged 15 years and over (Tho...   348.1\n",
       "2  State  2012Q1  Persons aged 15 years and over in Labour Force...  2211.3\n",
       "3  State  2012Q1          ILO Unemployment Rate (15 - 74 years) (%)    15.8\n",
       "4  State  2012Q1     ILO Participation Rate (15 years and over) (%)    61.4\n",
       "5  State  2012Q2  Persons aged 15 years and over in Employment (...  1878.0\n",
       "6  State  2012Q2  Unemployed Persons aged 15 years and over (Tho...   352.7\n",
       "7  State  2012Q2  Persons aged 15 years and over in Labour Force...  2230.7\n",
       "8  State  2012Q2          ILO Unemployment Rate (15 - 74 years) (%)    15.9\n",
       "9  State  2012Q2     ILO Participation Rate (15 years and over) (%)    61.9"
      ]
     },
     "execution_count": 9,
     "metadata": {},
     "output_type": "execute_result"
    }
   ],
   "source": [
    "df_dataset = dataset.to_data_frame()\n",
    "df_dataset.head(10)"
   ]
  },
  {
   "cell_type": "markdown",
   "metadata": {},
   "source": [
    "#### Extract a subset of the data for unemployment figures"
   ]
  },
  {
   "cell_type": "markdown",
   "metadata": {},
   "source": [
    "In this case we'll select the subset of data for the number of unemployed people (thousands) in Dublin for all quarters available in the dataset. Quarter will be used as the index for the data frame. The region and statistic chose for the subset need to be specified by their index (idx)."
   ]
  },
  {
   "cell_type": "code",
   "execution_count": 10,
   "metadata": {},
   "outputs": [
    {
     "data": {
      "text/html": [
       "<div>\n",
       "<style scoped>\n",
       "    .dataframe tbody tr th:only-of-type {\n",
       "        vertical-align: middle;\n",
       "    }\n",
       "\n",
       "    .dataframe tbody tr th {\n",
       "        vertical-align: top;\n",
       "    }\n",
       "\n",
       "    .dataframe thead th {\n",
       "        text-align: right;\n",
       "    }\n",
       "</style>\n",
       "<table border=\"1\" class=\"dataframe\">\n",
       "  <thead>\n",
       "    <tr style=\"text-align: right;\">\n",
       "      <th></th>\n",
       "      <th>Region</th>\n",
       "      <th>Quarter</th>\n",
       "      <th>Statistic</th>\n",
       "      <th>Value</th>\n",
       "    </tr>\n",
       "  </thead>\n",
       "  <tbody>\n",
       "    <tr>\n",
       "      <th>0</th>\n",
       "      <td>Dublin</td>\n",
       "      <td>2012Q1</td>\n",
       "      <td>Unemployed Persons aged 15 years and over (Tho...</td>\n",
       "      <td>85.1</td>\n",
       "    </tr>\n",
       "    <tr>\n",
       "      <th>1</th>\n",
       "      <td>Dublin</td>\n",
       "      <td>2012Q2</td>\n",
       "      <td>Unemployed Persons aged 15 years and over (Tho...</td>\n",
       "      <td>79.7</td>\n",
       "    </tr>\n",
       "    <tr>\n",
       "      <th>2</th>\n",
       "      <td>Dublin</td>\n",
       "      <td>2012Q3</td>\n",
       "      <td>Unemployed Persons aged 15 years and over (Tho...</td>\n",
       "      <td>84.9</td>\n",
       "    </tr>\n",
       "    <tr>\n",
       "      <th>3</th>\n",
       "      <td>Dublin</td>\n",
       "      <td>2012Q4</td>\n",
       "      <td>Unemployed Persons aged 15 years and over (Tho...</td>\n",
       "      <td>72.2</td>\n",
       "    </tr>\n",
       "    <tr>\n",
       "      <th>4</th>\n",
       "      <td>Dublin</td>\n",
       "      <td>2013Q1</td>\n",
       "      <td>Unemployed Persons aged 15 years and over (Tho...</td>\n",
       "      <td>72.1</td>\n",
       "    </tr>\n",
       "    <tr>\n",
       "      <th>5</th>\n",
       "      <td>Dublin</td>\n",
       "      <td>2013Q2</td>\n",
       "      <td>Unemployed Persons aged 15 years and over (Tho...</td>\n",
       "      <td>79.5</td>\n",
       "    </tr>\n",
       "    <tr>\n",
       "      <th>6</th>\n",
       "      <td>Dublin</td>\n",
       "      <td>2013Q3</td>\n",
       "      <td>Unemployed Persons aged 15 years and over (Tho...</td>\n",
       "      <td>70.2</td>\n",
       "    </tr>\n",
       "    <tr>\n",
       "      <th>7</th>\n",
       "      <td>Dublin</td>\n",
       "      <td>2013Q4</td>\n",
       "      <td>Unemployed Persons aged 15 years and over (Tho...</td>\n",
       "      <td>66.6</td>\n",
       "    </tr>\n",
       "    <tr>\n",
       "      <th>8</th>\n",
       "      <td>Dublin</td>\n",
       "      <td>2014Q1</td>\n",
       "      <td>Unemployed Persons aged 15 years and over (Tho...</td>\n",
       "      <td>69.5</td>\n",
       "    </tr>\n",
       "    <tr>\n",
       "      <th>9</th>\n",
       "      <td>Dublin</td>\n",
       "      <td>2014Q2</td>\n",
       "      <td>Unemployed Persons aged 15 years and over (Tho...</td>\n",
       "      <td>68.0</td>\n",
       "    </tr>\n",
       "    <tr>\n",
       "      <th>10</th>\n",
       "      <td>Dublin</td>\n",
       "      <td>2014Q3</td>\n",
       "      <td>Unemployed Persons aged 15 years and over (Tho...</td>\n",
       "      <td>70.7</td>\n",
       "    </tr>\n",
       "    <tr>\n",
       "      <th>11</th>\n",
       "      <td>Dublin</td>\n",
       "      <td>2014Q4</td>\n",
       "      <td>Unemployed Persons aged 15 years and over (Tho...</td>\n",
       "      <td>59.2</td>\n",
       "    </tr>\n",
       "    <tr>\n",
       "      <th>12</th>\n",
       "      <td>Dublin</td>\n",
       "      <td>2015Q1</td>\n",
       "      <td>Unemployed Persons aged 15 years and over (Tho...</td>\n",
       "      <td>60.1</td>\n",
       "    </tr>\n",
       "    <tr>\n",
       "      <th>13</th>\n",
       "      <td>Dublin</td>\n",
       "      <td>2015Q2</td>\n",
       "      <td>Unemployed Persons aged 15 years and over (Tho...</td>\n",
       "      <td>55.5</td>\n",
       "    </tr>\n",
       "    <tr>\n",
       "      <th>14</th>\n",
       "      <td>Dublin</td>\n",
       "      <td>2015Q3</td>\n",
       "      <td>Unemployed Persons aged 15 years and over (Tho...</td>\n",
       "      <td>56.2</td>\n",
       "    </tr>\n",
       "    <tr>\n",
       "      <th>15</th>\n",
       "      <td>Dublin</td>\n",
       "      <td>2015Q4</td>\n",
       "      <td>Unemployed Persons aged 15 years and over (Tho...</td>\n",
       "      <td>52.6</td>\n",
       "    </tr>\n",
       "    <tr>\n",
       "      <th>16</th>\n",
       "      <td>Dublin</td>\n",
       "      <td>2016Q1</td>\n",
       "      <td>Unemployed Persons aged 15 years and over (Tho...</td>\n",
       "      <td>48.6</td>\n",
       "    </tr>\n",
       "    <tr>\n",
       "      <th>17</th>\n",
       "      <td>Dublin</td>\n",
       "      <td>2016Q2</td>\n",
       "      <td>Unemployed Persons aged 15 years and over (Tho...</td>\n",
       "      <td>58.1</td>\n",
       "    </tr>\n",
       "    <tr>\n",
       "      <th>18</th>\n",
       "      <td>Dublin</td>\n",
       "      <td>2016Q3</td>\n",
       "      <td>Unemployed Persons aged 15 years and over (Tho...</td>\n",
       "      <td>55.6</td>\n",
       "    </tr>\n",
       "    <tr>\n",
       "      <th>19</th>\n",
       "      <td>Dublin</td>\n",
       "      <td>2016Q4</td>\n",
       "      <td>Unemployed Persons aged 15 years and over (Tho...</td>\n",
       "      <td>45.1</td>\n",
       "    </tr>\n",
       "    <tr>\n",
       "      <th>20</th>\n",
       "      <td>Dublin</td>\n",
       "      <td>2017Q1</td>\n",
       "      <td>Unemployed Persons aged 15 years and over (Tho...</td>\n",
       "      <td>44.7</td>\n",
       "    </tr>\n",
       "    <tr>\n",
       "      <th>21</th>\n",
       "      <td>Dublin</td>\n",
       "      <td>2017Q2</td>\n",
       "      <td>Unemployed Persons aged 15 years and over (Tho...</td>\n",
       "      <td>46.1</td>\n",
       "    </tr>\n",
       "    <tr>\n",
       "      <th>22</th>\n",
       "      <td>Dublin</td>\n",
       "      <td>2017Q3</td>\n",
       "      <td>Unemployed Persons aged 15 years and over (Tho...</td>\n",
       "      <td>44.8</td>\n",
       "    </tr>\n",
       "    <tr>\n",
       "      <th>23</th>\n",
       "      <td>Dublin</td>\n",
       "      <td>2017Q4</td>\n",
       "      <td>Unemployed Persons aged 15 years and over (Tho...</td>\n",
       "      <td>43.4</td>\n",
       "    </tr>\n",
       "    <tr>\n",
       "      <th>24</th>\n",
       "      <td>Dublin</td>\n",
       "      <td>2018Q1</td>\n",
       "      <td>Unemployed Persons aged 15 years and over (Tho...</td>\n",
       "      <td>37.8</td>\n",
       "    </tr>\n",
       "    <tr>\n",
       "      <th>25</th>\n",
       "      <td>Dublin</td>\n",
       "      <td>2018Q2</td>\n",
       "      <td>Unemployed Persons aged 15 years and over (Tho...</td>\n",
       "      <td>38.5</td>\n",
       "    </tr>\n",
       "    <tr>\n",
       "      <th>26</th>\n",
       "      <td>Dublin</td>\n",
       "      <td>2018Q3</td>\n",
       "      <td>Unemployed Persons aged 15 years and over (Tho...</td>\n",
       "      <td>38.9</td>\n",
       "    </tr>\n",
       "    <tr>\n",
       "      <th>27</th>\n",
       "      <td>Dublin</td>\n",
       "      <td>2018Q4</td>\n",
       "      <td>Unemployed Persons aged 15 years and over (Tho...</td>\n",
       "      <td>36.4</td>\n",
       "    </tr>\n",
       "    <tr>\n",
       "      <th>28</th>\n",
       "      <td>Dublin</td>\n",
       "      <td>2019Q1</td>\n",
       "      <td>Unemployed Persons aged 15 years and over (Tho...</td>\n",
       "      <td>32.1</td>\n",
       "    </tr>\n",
       "    <tr>\n",
       "      <th>29</th>\n",
       "      <td>Dublin</td>\n",
       "      <td>2019Q2</td>\n",
       "      <td>Unemployed Persons aged 15 years and over (Tho...</td>\n",
       "      <td>32.7</td>\n",
       "    </tr>\n",
       "  </tbody>\n",
       "</table>\n",
       "</div>"
      ],
      "text/plain": [
       "    Region Quarter                                          Statistic  Value\n",
       "0   Dublin  2012Q1  Unemployed Persons aged 15 years and over (Tho...   85.1\n",
       "1   Dublin  2012Q2  Unemployed Persons aged 15 years and over (Tho...   79.7\n",
       "2   Dublin  2012Q3  Unemployed Persons aged 15 years and over (Tho...   84.9\n",
       "3   Dublin  2012Q4  Unemployed Persons aged 15 years and over (Tho...   72.2\n",
       "4   Dublin  2013Q1  Unemployed Persons aged 15 years and over (Tho...   72.1\n",
       "5   Dublin  2013Q2  Unemployed Persons aged 15 years and over (Tho...   79.5\n",
       "6   Dublin  2013Q3  Unemployed Persons aged 15 years and over (Tho...   70.2\n",
       "7   Dublin  2013Q4  Unemployed Persons aged 15 years and over (Tho...   66.6\n",
       "8   Dublin  2014Q1  Unemployed Persons aged 15 years and over (Tho...   69.5\n",
       "9   Dublin  2014Q2  Unemployed Persons aged 15 years and over (Tho...   68.0\n",
       "10  Dublin  2014Q3  Unemployed Persons aged 15 years and over (Tho...   70.7\n",
       "11  Dublin  2014Q4  Unemployed Persons aged 15 years and over (Tho...   59.2\n",
       "12  Dublin  2015Q1  Unemployed Persons aged 15 years and over (Tho...   60.1\n",
       "13  Dublin  2015Q2  Unemployed Persons aged 15 years and over (Tho...   55.5\n",
       "14  Dublin  2015Q3  Unemployed Persons aged 15 years and over (Tho...   56.2\n",
       "15  Dublin  2015Q4  Unemployed Persons aged 15 years and over (Tho...   52.6\n",
       "16  Dublin  2016Q1  Unemployed Persons aged 15 years and over (Tho...   48.6\n",
       "17  Dublin  2016Q2  Unemployed Persons aged 15 years and over (Tho...   58.1\n",
       "18  Dublin  2016Q3  Unemployed Persons aged 15 years and over (Tho...   55.6\n",
       "19  Dublin  2016Q4  Unemployed Persons aged 15 years and over (Tho...   45.1\n",
       "20  Dublin  2017Q1  Unemployed Persons aged 15 years and over (Tho...   44.7\n",
       "21  Dublin  2017Q2  Unemployed Persons aged 15 years and over (Tho...   46.1\n",
       "22  Dublin  2017Q3  Unemployed Persons aged 15 years and over (Tho...   44.8\n",
       "23  Dublin  2017Q4  Unemployed Persons aged 15 years and over (Tho...   43.4\n",
       "24  Dublin  2018Q1  Unemployed Persons aged 15 years and over (Tho...   37.8\n",
       "25  Dublin  2018Q2  Unemployed Persons aged 15 years and over (Tho...   38.5\n",
       "26  Dublin  2018Q3  Unemployed Persons aged 15 years and over (Tho...   38.9\n",
       "27  Dublin  2018Q4  Unemployed Persons aged 15 years and over (Tho...   36.4\n",
       "28  Dublin  2019Q1  Unemployed Persons aged 15 years and over (Tho...   32.1\n",
       "29  Dublin  2019Q2  Unemployed Persons aged 15 years and over (Tho...   32.7"
      ]
     },
     "execution_count": 10,
     "metadata": {},
     "output_type": "execute_result"
    }
   ],
   "source": [
    "df_dublin_unemployed = dataset.to_data_frame(blocked_dims={'Region':'IE061', 'Statistic':'QLF08C02'})\n",
    "df_dublin_unemployed"
   ]
  },
  {
   "cell_type": "markdown",
   "metadata": {},
   "source": [
    "#### Get summary statistics for the dataframe"
   ]
  },
  {
   "cell_type": "code",
   "execution_count": 11,
   "metadata": {},
   "outputs": [
    {
     "data": {
      "text/html": [
       "<div>\n",
       "<style scoped>\n",
       "    .dataframe tbody tr th:only-of-type {\n",
       "        vertical-align: middle;\n",
       "    }\n",
       "\n",
       "    .dataframe tbody tr th {\n",
       "        vertical-align: top;\n",
       "    }\n",
       "\n",
       "    .dataframe thead th {\n",
       "        text-align: right;\n",
       "    }\n",
       "</style>\n",
       "<table border=\"1\" class=\"dataframe\">\n",
       "  <thead>\n",
       "    <tr style=\"text-align: right;\">\n",
       "      <th></th>\n",
       "      <th>Value</th>\n",
       "    </tr>\n",
       "  </thead>\n",
       "  <tbody>\n",
       "    <tr>\n",
       "      <th>count</th>\n",
       "      <td>30.000000</td>\n",
       "    </tr>\n",
       "    <tr>\n",
       "      <th>mean</th>\n",
       "      <td>56.830000</td>\n",
       "    </tr>\n",
       "    <tr>\n",
       "      <th>std</th>\n",
       "      <td>15.874924</td>\n",
       "    </tr>\n",
       "    <tr>\n",
       "      <th>min</th>\n",
       "      <td>32.100000</td>\n",
       "    </tr>\n",
       "    <tr>\n",
       "      <th>25%</th>\n",
       "      <td>44.725000</td>\n",
       "    </tr>\n",
       "    <tr>\n",
       "      <th>50%</th>\n",
       "      <td>55.900000</td>\n",
       "    </tr>\n",
       "    <tr>\n",
       "      <th>75%</th>\n",
       "      <td>70.025000</td>\n",
       "    </tr>\n",
       "    <tr>\n",
       "      <th>max</th>\n",
       "      <td>85.100000</td>\n",
       "    </tr>\n",
       "  </tbody>\n",
       "</table>\n",
       "</div>"
      ],
      "text/plain": [
       "           Value\n",
       "count  30.000000\n",
       "mean   56.830000\n",
       "std    15.874924\n",
       "min    32.100000\n",
       "25%    44.725000\n",
       "50%    55.900000\n",
       "75%    70.025000\n",
       "max    85.100000"
      ]
     },
     "execution_count": 11,
     "metadata": {},
     "output_type": "execute_result"
    }
   ],
   "source": [
    "df_dublin_unemployed.describe()"
   ]
  },
  {
   "cell_type": "markdown",
   "metadata": {},
   "source": [
    "#### Plot unemployment in Dublin"
   ]
  },
  {
   "cell_type": "code",
   "execution_count": 12,
   "metadata": {},
   "outputs": [
    {
     "data": {
      "image/png": "[encoded data removed]",
      "text/plain": [
       "<Figure size 432x288 with 1 Axes>"
      ]
     },
     "metadata": {
      "needs_background": "light"
     },
     "output_type": "display_data"
    }
   ],
   "source": [
    "ax = plt.gca()\n",
    "\n",
    "df_dublin_unemployed.plot(kind='line',color='cornflowerblue',label ='Unemployed',x='Quarter',y='Value',ax=ax)\n",
    "\n",
    "plt.title(\"Unemployment in Dublin\"  + \"\\n\" + \"Persons aged 15 years and over (Thousands)\")\n",
    "\n",
    "plt.show()"
   ]
  },
  {
   "cell_type": "markdown",
   "metadata": {},
   "source": [
    "#### Extract employment figures for Dublin"
   ]
  },
  {
   "cell_type": "code",
   "execution_count": 13,
   "metadata": {},
   "outputs": [
    {
     "data": {
      "text/html": [
       "<div>\n",
       "<style scoped>\n",
       "    .dataframe tbody tr th:only-of-type {\n",
       "        vertical-align: middle;\n",
       "    }\n",
       "\n",
       "    .dataframe tbody tr th {\n",
       "        vertical-align: top;\n",
       "    }\n",
       "\n",
       "    .dataframe thead th {\n",
       "        text-align: right;\n",
       "    }\n",
       "</style>\n",
       "<table border=\"1\" class=\"dataframe\">\n",
       "  <thead>\n",
       "    <tr style=\"text-align: right;\">\n",
       "      <th></th>\n",
       "      <th>Region</th>\n",
       "      <th>Quarter</th>\n",
       "      <th>Statistic</th>\n",
       "      <th>Value</th>\n",
       "    </tr>\n",
       "  </thead>\n",
       "  <tbody>\n",
       "    <tr>\n",
       "      <th>0</th>\n",
       "      <td>Dublin</td>\n",
       "      <td>2012Q1</td>\n",
       "      <td>Persons aged 15 years and over in Employment (...</td>\n",
       "      <td>543.5</td>\n",
       "    </tr>\n",
       "    <tr>\n",
       "      <th>1</th>\n",
       "      <td>Dublin</td>\n",
       "      <td>2012Q2</td>\n",
       "      <td>Persons aged 15 years and over in Employment (...</td>\n",
       "      <td>549.6</td>\n",
       "    </tr>\n",
       "    <tr>\n",
       "      <th>2</th>\n",
       "      <td>Dublin</td>\n",
       "      <td>2012Q3</td>\n",
       "      <td>Persons aged 15 years and over in Employment (...</td>\n",
       "      <td>552.0</td>\n",
       "    </tr>\n",
       "    <tr>\n",
       "      <th>3</th>\n",
       "      <td>Dublin</td>\n",
       "      <td>2012Q4</td>\n",
       "      <td>Persons aged 15 years and over in Employment (...</td>\n",
       "      <td>560.6</td>\n",
       "    </tr>\n",
       "    <tr>\n",
       "      <th>4</th>\n",
       "      <td>Dublin</td>\n",
       "      <td>2013Q1</td>\n",
       "      <td>Persons aged 15 years and over in Employment (...</td>\n",
       "      <td>550.3</td>\n",
       "    </tr>\n",
       "    <tr>\n",
       "      <th>5</th>\n",
       "      <td>Dublin</td>\n",
       "      <td>2013Q2</td>\n",
       "      <td>Persons aged 15 years and over in Employment (...</td>\n",
       "      <td>562.1</td>\n",
       "    </tr>\n",
       "    <tr>\n",
       "      <th>6</th>\n",
       "      <td>Dublin</td>\n",
       "      <td>2013Q3</td>\n",
       "      <td>Persons aged 15 years and over in Employment (...</td>\n",
       "      <td>576.3</td>\n",
       "    </tr>\n",
       "    <tr>\n",
       "      <th>7</th>\n",
       "      <td>Dublin</td>\n",
       "      <td>2013Q4</td>\n",
       "      <td>Persons aged 15 years and over in Employment (...</td>\n",
       "      <td>578.6</td>\n",
       "    </tr>\n",
       "    <tr>\n",
       "      <th>8</th>\n",
       "      <td>Dublin</td>\n",
       "      <td>2014Q1</td>\n",
       "      <td>Persons aged 15 years and over in Employment (...</td>\n",
       "      <td>581.1</td>\n",
       "    </tr>\n",
       "    <tr>\n",
       "      <th>9</th>\n",
       "      <td>Dublin</td>\n",
       "      <td>2014Q2</td>\n",
       "      <td>Persons aged 15 years and over in Employment (...</td>\n",
       "      <td>589.3</td>\n",
       "    </tr>\n",
       "    <tr>\n",
       "      <th>10</th>\n",
       "      <td>Dublin</td>\n",
       "      <td>2014Q3</td>\n",
       "      <td>Persons aged 15 years and over in Employment (...</td>\n",
       "      <td>593.9</td>\n",
       "    </tr>\n",
       "    <tr>\n",
       "      <th>11</th>\n",
       "      <td>Dublin</td>\n",
       "      <td>2014Q4</td>\n",
       "      <td>Persons aged 15 years and over in Employment (...</td>\n",
       "      <td>606.4</td>\n",
       "    </tr>\n",
       "    <tr>\n",
       "      <th>12</th>\n",
       "      <td>Dublin</td>\n",
       "      <td>2015Q1</td>\n",
       "      <td>Persons aged 15 years and over in Employment (...</td>\n",
       "      <td>600.9</td>\n",
       "    </tr>\n",
       "    <tr>\n",
       "      <th>13</th>\n",
       "      <td>Dublin</td>\n",
       "      <td>2015Q2</td>\n",
       "      <td>Persons aged 15 years and over in Employment (...</td>\n",
       "      <td>610.2</td>\n",
       "    </tr>\n",
       "    <tr>\n",
       "      <th>14</th>\n",
       "      <td>Dublin</td>\n",
       "      <td>2015Q3</td>\n",
       "      <td>Persons aged 15 years and over in Employment (...</td>\n",
       "      <td>622.7</td>\n",
       "    </tr>\n",
       "    <tr>\n",
       "      <th>15</th>\n",
       "      <td>Dublin</td>\n",
       "      <td>2015Q4</td>\n",
       "      <td>Persons aged 15 years and over in Employment (...</td>\n",
       "      <td>629.3</td>\n",
       "    </tr>\n",
       "    <tr>\n",
       "      <th>16</th>\n",
       "      <td>Dublin</td>\n",
       "      <td>2016Q1</td>\n",
       "      <td>Persons aged 15 years and over in Employment (...</td>\n",
       "      <td>633.8</td>\n",
       "    </tr>\n",
       "    <tr>\n",
       "      <th>17</th>\n",
       "      <td>Dublin</td>\n",
       "      <td>2016Q2</td>\n",
       "      <td>Persons aged 15 years and over in Employment (...</td>\n",
       "      <td>641.3</td>\n",
       "    </tr>\n",
       "    <tr>\n",
       "      <th>18</th>\n",
       "      <td>Dublin</td>\n",
       "      <td>2016Q3</td>\n",
       "      <td>Persons aged 15 years and over in Employment (...</td>\n",
       "      <td>648.2</td>\n",
       "    </tr>\n",
       "    <tr>\n",
       "      <th>19</th>\n",
       "      <td>Dublin</td>\n",
       "      <td>2016Q4</td>\n",
       "      <td>Persons aged 15 years and over in Employment (...</td>\n",
       "      <td>653.5</td>\n",
       "    </tr>\n",
       "    <tr>\n",
       "      <th>20</th>\n",
       "      <td>Dublin</td>\n",
       "      <td>2017Q1</td>\n",
       "      <td>Persons aged 15 years and over in Employment (...</td>\n",
       "      <td>648.8</td>\n",
       "    </tr>\n",
       "    <tr>\n",
       "      <th>21</th>\n",
       "      <td>Dublin</td>\n",
       "      <td>2017Q2</td>\n",
       "      <td>Persons aged 15 years and over in Employment (...</td>\n",
       "      <td>649.6</td>\n",
       "    </tr>\n",
       "    <tr>\n",
       "      <th>22</th>\n",
       "      <td>Dublin</td>\n",
       "      <td>2017Q3</td>\n",
       "      <td>Persons aged 15 years and over in Employment (...</td>\n",
       "      <td>663.3</td>\n",
       "    </tr>\n",
       "    <tr>\n",
       "      <th>23</th>\n",
       "      <td>Dublin</td>\n",
       "      <td>2017Q4</td>\n",
       "      <td>Persons aged 15 years and over in Employment (...</td>\n",
       "      <td>675.5</td>\n",
       "    </tr>\n",
       "    <tr>\n",
       "      <th>24</th>\n",
       "      <td>Dublin</td>\n",
       "      <td>2018Q1</td>\n",
       "      <td>Persons aged 15 years and over in Employment (...</td>\n",
       "      <td>683.9</td>\n",
       "    </tr>\n",
       "    <tr>\n",
       "      <th>25</th>\n",
       "      <td>Dublin</td>\n",
       "      <td>2018Q2</td>\n",
       "      <td>Persons aged 15 years and over in Employment (...</td>\n",
       "      <td>695.1</td>\n",
       "    </tr>\n",
       "    <tr>\n",
       "      <th>26</th>\n",
       "      <td>Dublin</td>\n",
       "      <td>2018Q3</td>\n",
       "      <td>Persons aged 15 years and over in Employment (...</td>\n",
       "      <td>696.2</td>\n",
       "    </tr>\n",
       "    <tr>\n",
       "      <th>27</th>\n",
       "      <td>Dublin</td>\n",
       "      <td>2018Q4</td>\n",
       "      <td>Persons aged 15 years and over in Employment (...</td>\n",
       "      <td>701.4</td>\n",
       "    </tr>\n",
       "    <tr>\n",
       "      <th>28</th>\n",
       "      <td>Dublin</td>\n",
       "      <td>2019Q1</td>\n",
       "      <td>Persons aged 15 years and over in Employment (...</td>\n",
       "      <td>704.9</td>\n",
       "    </tr>\n",
       "    <tr>\n",
       "      <th>29</th>\n",
       "      <td>Dublin</td>\n",
       "      <td>2019Q2</td>\n",
       "      <td>Persons aged 15 years and over in Employment (...</td>\n",
       "      <td>716.7</td>\n",
       "    </tr>\n",
       "  </tbody>\n",
       "</table>\n",
       "</div>"
      ],
      "text/plain": [
       "    Region Quarter                                          Statistic  Value\n",
       "0   Dublin  2012Q1  Persons aged 15 years and over in Employment (...  543.5\n",
       "1   Dublin  2012Q2  Persons aged 15 years and over in Employment (...  549.6\n",
       "2   Dublin  2012Q3  Persons aged 15 years and over in Employment (...  552.0\n",
       "3   Dublin  2012Q4  Persons aged 15 years and over in Employment (...  560.6\n",
       "4   Dublin  2013Q1  Persons aged 15 years and over in Employment (...  550.3\n",
       "5   Dublin  2013Q2  Persons aged 15 years and over in Employment (...  562.1\n",
       "6   Dublin  2013Q3  Persons aged 15 years and over in Employment (...  576.3\n",
       "7   Dublin  2013Q4  Persons aged 15 years and over in Employment (...  578.6\n",
       "8   Dublin  2014Q1  Persons aged 15 years and over in Employment (...  581.1\n",
       "9   Dublin  2014Q2  Persons aged 15 years and over in Employment (...  589.3\n",
       "10  Dublin  2014Q3  Persons aged 15 years and over in Employment (...  593.9\n",
       "11  Dublin  2014Q4  Persons aged 15 years and over in Employment (...  606.4\n",
       "12  Dublin  2015Q1  Persons aged 15 years and over in Employment (...  600.9\n",
       "13  Dublin  2015Q2  Persons aged 15 years and over in Employment (...  610.2\n",
       "14  Dublin  2015Q3  Persons aged 15 years and over in Employment (...  622.7\n",
       "15  Dublin  2015Q4  Persons aged 15 years and over in Employment (...  629.3\n",
       "16  Dublin  2016Q1  Persons aged 15 years and over in Employment (...  633.8\n",
       "17  Dublin  2016Q2  Persons aged 15 years and over in Employment (...  641.3\n",
       "18  Dublin  2016Q3  Persons aged 15 years and over in Employment (...  648.2\n",
       "19  Dublin  2016Q4  Persons aged 15 years and over in Employment (...  653.5\n",
       "20  Dublin  2017Q1  Persons aged 15 years and over in Employment (...  648.8\n",
       "21  Dublin  2017Q2  Persons aged 15 years and over in Employment (...  649.6\n",
       "22  Dublin  2017Q3  Persons aged 15 years and over in Employment (...  663.3\n",
       "23  Dublin  2017Q4  Persons aged 15 years and over in Employment (...  675.5\n",
       "24  Dublin  2018Q1  Persons aged 15 years and over in Employment (...  683.9\n",
       "25  Dublin  2018Q2  Persons aged 15 years and over in Employment (...  695.1\n",
       "26  Dublin  2018Q3  Persons aged 15 years and over in Employment (...  696.2\n",
       "27  Dublin  2018Q4  Persons aged 15 years and over in Employment (...  701.4\n",
       "28  Dublin  2019Q1  Persons aged 15 years and over in Employment (...  704.9\n",
       "29  Dublin  2019Q2  Persons aged 15 years and over in Employment (...  716.7"
      ]
     },
     "execution_count": 13,
     "metadata": {},
     "output_type": "execute_result"
    }
   ],
   "source": [
    "df_dublin_employed = dataset.to_data_frame(blocked_dims={'Region':'IE061', 'Statistic':'QLF08C01'})\n",
    "df_dublin_employed"
   ]
  },
  {
   "cell_type": "markdown",
   "metadata": {},
   "source": [
    "#### Plot employment figures for Dublin"
   ]
  },
  {
   "cell_type": "code",
   "execution_count": 14,
   "metadata": {},
   "outputs": [
    {
     "data": {
      "image/png": "[encoded data removed]",
      "text/plain": [
       "<Figure size 432x288 with 1 Axes>"
      ]
     },
     "metadata": {
      "needs_background": "light"
     },
     "output_type": "display_data"
    }
   ],
   "source": [
    "ax = plt.gca()\n",
    "\n",
    "df_dublin_employed.plot(kind='line',color='orange',label ='Employed',x='Quarter',y='Value',ax=ax)\n",
    "\n",
    "plt.title(\"Employment in Dublin\" + \"\\n\" + \"Persons aged 15 years and over (Thousands)\")\n",
    "\n",
    "plt.show()"
   ]
  },
  {
   "cell_type": "markdown",
   "metadata": {},
   "source": [
    "#### Plot employment and unemployment figures for Dublin together on the same axis for comparison"
   ]
  },
  {
   "cell_type": "code",
   "execution_count": 15,
   "metadata": {},
   "outputs": [
    {
     "data": {
      "image/png": "[encoded data removed]",
      "text/plain": [
       "<Figure size 432x288 with 1 Axes>"
      ]
     },
     "metadata": {
      "needs_background": "light"
     },
     "output_type": "display_data"
    }
   ],
   "source": [
    "ax = plt.gca()\n",
    "\n",
    "df_dublin_employed.plot(kind='line',color='orange',label='Employed',x='Quarter',y='Value',ax=ax)\n",
    "df_dublin_unemployed.plot(kind='line',color='cornflowerblue',label='Unemployed',x='Quarter',y='Value',ax=ax)\n",
    "\n",
    "plt.title(\"Employment versus Unemployment in Dublin\" + \"\\n\" + \"Persons aged 15 years and over (Thousands)\")\n",
    "\n",
    "plt.show()"
   ]
  },
  {
   "cell_type": "code",
   "execution_count": null,
   "metadata": {},
   "outputs": [],
   "source": []
  }
 ],
 "metadata": {
  "kernelspec": {
   "display_name": "Python 3",
   "language": "python",
   "name": "python3"
  },
  "language_info": {
   "codemirror_mode": {
    "name": "ipython",
    "version": 3
   },
   "file_extension": ".py",
   "mimetype": "text/x-python",
   "name": "python",
   "nbconvert_exporter": "python",
   "pygments_lexer": "ipython3",
   "version": "3.7.5"
  }
 },
 "nbformat": 4,
 "nbformat_minor": 2
}
