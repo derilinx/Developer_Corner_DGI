{
 "cells": [
  {
   "cell_type": "markdown",
   "metadata": {},
   "source": [
    "## Analysing Organisational Metadata - Ordnance Survey Ireland:\n",
    "\n",
    "#### This shows how to extract information about datasets/publishers (CKAN refers to publishers internally as organizations):\n",
    "\n",
    "This gives an overview of how to analyse the data that belongs to the particular organization. The find organization function helps to find_organization_id you are looking for and organization_show helps to extract all the packages/datasets id that belongs to the organization (only 1000 ids can be extracted once). In addition to packages ids, these function also returns the meta information of the organization and the datasets.\n",
    "\n",
    "This shows how to do a analysis on the available meta information about the publishers/organizations. Here for the demo purpose Ordance Survey Ireland is taken as an example for organization, however we can do analysis on meta information vailable on any organization."
   ]
  },
  {
   "cell_type": "markdown",
   "metadata": {},
   "source": [
    "##### Import all requirements"
   ]
  },
  {
   "cell_type": "code",
   "execution_count": 1,
   "metadata": {},
   "outputs": [
    {
     "name": "stdout",
     "output_type": "stream",
     "text": [
      "Requirement already satisfied: requests in /anaconda3/lib/python3.7/site-packages (2.19.1)\n",
      "Requirement already satisfied: fuzzywuzzy in /anaconda3/lib/python3.7/site-packages (0.17.0)\n",
      "Requirement already satisfied: pandas in /anaconda3/lib/python3.7/site-packages (0.23.4)\n",
      "Requirement already satisfied: pyjstat in /anaconda3/lib/python3.7/site-packages (1.0.1)\n",
      "Requirement already satisfied: numpy in /anaconda3/lib/python3.7/site-packages (1.15.1)\n",
      "Requirement already satisfied: plotly in /anaconda3/lib/python3.7/site-packages (3.4.2)\n",
      "Requirement already satisfied: matplotlib in /anaconda3/lib/python3.7/site-packages (2.2.3)\n",
      "Requirement already satisfied: seaborn in /anaconda3/lib/python3.7/site-packages (0.9.0)\n",
      "Requirement already satisfied: urllib3<1.24,>=1.21.1 in /anaconda3/lib/python3.7/site-packages (from requests) (1.23)\n",
      "Requirement already satisfied: chardet<3.1.0,>=3.0.2 in /anaconda3/lib/python3.7/site-packages (from requests) (3.0.4)\n",
      "Requirement already satisfied: certifi>=2017.4.17 in /anaconda3/lib/python3.7/site-packages (from requests) (2018.8.24)\n",
      "Requirement already satisfied: idna<2.8,>=2.5 in /anaconda3/lib/python3.7/site-packages (from requests) (2.7)\n",
      "Requirement already satisfied: python-dateutil>=2.5.0 in /anaconda3/lib/python3.7/site-packages (from pandas) (2.7.3)\n",
      "Requirement already satisfied: pytz>=2011k in /anaconda3/lib/python3.7/site-packages (from pandas) (2018.5)\n",
      "Requirement already satisfied: decorator>=4.0.6 in /anaconda3/lib/python3.7/site-packages (from plotly) (4.3.0)\n",
      "Requirement already satisfied: nbformat>=4.2 in /anaconda3/lib/python3.7/site-packages (from plotly) (4.4.0)\n",
      "Requirement already satisfied: retrying>=1.3.3 in /anaconda3/lib/python3.7/site-packages (from plotly) (1.3.3)\n",
      "Requirement already satisfied: six in /anaconda3/lib/python3.7/site-packages (from plotly) (1.11.0)\n",
      "Requirement already satisfied: cycler>=0.10 in /anaconda3/lib/python3.7/site-packages (from matplotlib) (0.10.0)\n",
      "Requirement already satisfied: pyparsing!=2.0.4,!=2.1.2,!=2.1.6,>=2.0.1 in /anaconda3/lib/python3.7/site-packages (from matplotlib) (2.2.0)\n",
      "Requirement already satisfied: kiwisolver>=1.0.1 in /anaconda3/lib/python3.7/site-packages (from matplotlib) (1.0.1)\n",
      "Requirement already satisfied: scipy>=0.14.0 in /anaconda3/lib/python3.7/site-packages (from seaborn) (1.1.0)\n",
      "Requirement already satisfied: ipython-genutils in /anaconda3/lib/python3.7/site-packages (from nbformat>=4.2->plotly) (0.2.0)\n",
      "Requirement already satisfied: jsonschema!=2.5.0,>=2.4 in /anaconda3/lib/python3.7/site-packages (from nbformat>=4.2->plotly) (2.6.0)\n",
      "Requirement already satisfied: jupyter-core in /anaconda3/lib/python3.7/site-packages (from nbformat>=4.2->plotly) (4.4.0)\n",
      "Requirement already satisfied: traitlets>=4.1 in /anaconda3/lib/python3.7/site-packages (from nbformat>=4.2->plotly) (4.3.2)\n",
      "Requirement already satisfied: setuptools in /anaconda3/lib/python3.7/site-packages (from kiwisolver>=1.0.1->matplotlib) (40.2.0)\n",
      "\u001b[33mYou are using pip version 10.0.1, however version 18.1 is available.\n",
      "You should consider upgrading via the 'pip install --upgrade pip' command.\u001b[0m\n"
     ]
    }
   ],
   "source": [
    "!pip install requests fuzzywuzzy pandas pyjstat numpy plotly matplotlib seaborn"
   ]
  },
  {
   "cell_type": "markdown",
   "metadata": {},
   "source": [
    "##### Import all necessary libraries:"
   ]
  },
  {
   "cell_type": "code",
   "execution_count": 2,
   "metadata": {},
   "outputs": [],
   "source": [
    "import requests\n",
    "from fuzzywuzzy import fuzz\n",
    "from fuzzywuzzy import process\n",
    "import sys\n",
    "import pandas as pd\n",
    "from pyjstat import pyjstat\n",
    "import numpy as np\n",
    "from pyjstat import pyjstat\n",
    "import plotly.plotly as py\n",
    "import plotly.graph_objs as go\n",
    "import matplotlib.pyplot as plt\n",
    "import seaborn as sns\n",
    "import collections\n",
    "from IPython.display import display, HTML\n",
    "import plotly.tools as tls"
   ]
  },
  {
   "cell_type": "markdown",
   "metadata": {},
   "source": [
    "### Find organization id by fuzzy matching search term: Ordance Survey Ireland\n",
    "\n",
    "This helps users to fetch the organization id given name of the organization. For example, for given name Ordancd Survey Ireland, this functions fetches the id of the corresponding organization - "
   ]
  },
  {
   "cell_type": "code",
   "execution_count": 3,
   "metadata": {},
   "outputs": [],
   "source": [
    "def find_organization_id(url, org_name, param):\n",
    "    \n",
    "    try:\n",
    "\n",
    "        response = requests.get(url, param)\n",
    "        results = response.json()\n",
    "\n",
    "        if not results['success']:\n",
    "            raise SystemError\n",
    "\n",
    "        if len(results['result']) == 0:\n",
    "\n",
    "            return (\"No matching Organization found\")\n",
    "\n",
    "        else:\n",
    "\n",
    "            ratio = {}\n",
    "\n",
    "            for index, x in enumerate(results['result']):\n",
    "                ratio[index] = fuzz.ratio(org_name, x['display_name'])\n",
    "\n",
    "            mtch_rtr = sorted(ratio.values())[-1]\n",
    "\n",
    "            if mtch_rtr >= 75:\n",
    "\n",
    "                lKey = [k for k,v in ratio.items() if v == mtch_rtr]\n",
    "\n",
    "                return results['result'][int(lKey[0])]\n",
    "\n",
    "            else:\n",
    "                return (\"No matching Organization found\")\n",
    "\n",
    "    except SystemError:\n",
    "        print(\"Failure in request - bad action/url\")\n",
    "        sys.exit(1)\n",
    "        \n",
    "    except Exception as e:\n",
    "        print(e)\n",
    "        sys.exit(1)\n",
    "        "
   ]
  },
  {
   "cell_type": "markdown",
   "metadata": {},
   "source": [
    "#### Meta Information for the Organization Ordnance Survey Ireland:\n",
    "This function fetches the datasets id and corresponding meta information like, url, star rating, tags, name, number of resources, formats available and its corresponding analysis."
   ]
  },
  {
   "cell_type": "code",
   "execution_count": 4,
   "metadata": {},
   "outputs": [],
   "source": [
    "def find_all_datasets_for_org(url, org_name):\n",
    "    \n",
    "    try: \n",
    "        \n",
    "        param_find_org = {'all_fields': True}\n",
    "        \n",
    "        org_id = find_organization_id(url+'api/3/action/organization_list', org_name, param_find_org)['id']\n",
    "        \n",
    "        param_pkgs = {'id': org_id, 'include_users': True, 'include_dataset_count': True, \n",
    "                      'include_users': True, 'include_groups': True, 'include_tags': True, 'include_datasets': True}\n",
    "        \n",
    "        response = requests.get(url+'api/3/action/organization_show', param_pkgs)\n",
    "        results_org = response.json()\n",
    "        \n",
    "        if not results_org['success']:\n",
    "            raise SystemError\n",
    "\n",
    "        if len(results_org['result']) == 0:\n",
    "            raise Exception\n",
    "            \n",
    "        pkg_cnt = results_org['result']['package_count']\n",
    "        frmts_cnt = {}\n",
    "        star_cnt = {}\n",
    "        tags_cnt = {}\n",
    "        \n",
    "        df_ids_details = []\n",
    "        \n",
    "        for x in results_org['result']['packages']:\n",
    "            \n",
    "            \n",
    "            param_pkg_show = {'id': x['id']}\n",
    "            response = requests.get(url+'api/3/action/package_show', param_pkg_show)\n",
    "            results_pkg = response.json()\n",
    "            \n",
    "            if results_pkg['result']['qa']['openness_score'] in list(star_cnt.keys()):\n",
    "                    \n",
    "                star_cnt[results_pkg['result']['qa']['openness_score']] += 1\n",
    "                    \n",
    "            else:\n",
    "                    \n",
    "                star_cnt[results_pkg['result']['qa']['openness_score']] = 1\n",
    "                    \n",
    "            \n",
    "            \n",
    "            frmt = []\n",
    "            tag_nm = []\n",
    "            \n",
    "            for tag in results_pkg['result']['tags']:\n",
    "                \n",
    "                tag_nm.append(tag['display_name'].strip())\n",
    "                    \n",
    "                if tag['display_name'].strip() in list(tags_cnt.keys()):\n",
    "                    \n",
    "                    tags_cnt[tag['display_name'].strip()] += 1\n",
    "                    \n",
    "                else:\n",
    "                    \n",
    "                    tags_cnt[tag['display_name'].strip()] = 1\n",
    "        \n",
    "            \n",
    "            for y in results_pkg['result']['resources']:\n",
    "                \n",
    "                frmt.append(y['format'])\n",
    "                \n",
    "                if y['format'] in list(frmts_cnt.keys()):\n",
    "                    \n",
    "                    frmts_cnt[y['format']] += 1\n",
    "                    \n",
    "                else:\n",
    "                    \n",
    "                    frmts_cnt[y['format']] = 1\n",
    "                    \n",
    "            \n",
    "            df_ids_details.append({'id': x['id'], 'num_tags':x['num_tags'], 'num_resources':x['num_resources'],\n",
    "                                  'name': x['name'], 'url':x['url'], 'formats': \", \".join(frmt), \n",
    "                                  'star_rating': results_pkg['result']['qa']['openness_score'],\n",
    "                                  'tags': \", \".join(tag_nm)})\n",
    "            \n",
    "        \n",
    "            \n",
    "        return pd.DataFrame(sorted(df_ids_details, key=lambda k: k['star_rating'], reverse=True)), frmts_cnt, star_cnt, tags_cnt\n",
    "        \n",
    "        \n",
    "    except SystemError:\n",
    "        print(\"Failure in request - bad organization name\"\\\n",
    "              \"Hint: No matching organization found - please check the name of the organization\")\n",
    "        sys.exit(1)\n",
    "        \n",
    "    except Exception as e:\n",
    "        \n",
    "        print(e)\n",
    "        sys.exit(1)\n",
    "        \n",
    "\n",
    "        \n",
    "hg_score_df, frmts_cnt, star_cnt, tags_cnt = find_all_datasets_for_org('https://data.gov.ie/', 'Ordancd Survey Ireland')"
   ]
  },
  {
   "cell_type": "markdown",
   "metadata": {},
   "source": [
    "### Metadata of the publisher: Ordnance Survey Ireland"
   ]
  },
  {
   "cell_type": "code",
   "execution_count": 5,
   "metadata": {},
   "outputs": [
    {
     "data": {
      "text/html": [
       "<table border=\"1\" class=\"dataframe\">\n",
       "  <thead>\n",
       "    <tr style=\"text-align: right;\">\n",
       "      <th></th>\n",
       "      <th>formats</th>\n",
       "      <th>id</th>\n",
       "      <th>name</th>\n",
       "      <th>num_resources</th>\n",
       "      <th>num_tags</th>\n",
       "      <th>star_rating</th>\n",
       "      <th>tags</th>\n",
       "      <th>url</th>\n",
       "    </tr>\n",
       "  </thead>\n",
       "  <tbody>\n",
       "    <tr>\n",
       "      <th>0</th>\n",
       "      <td>ttl, rdf-xml</td>\n",
       "      <td>bf293fc8-cfe5-42a0-a31b-f47b75285f6d</td>\n",
       "      <td>osi-national-statutory-boundary-linked-data</td>\n",
       "      <td>2</td>\n",
       "      <td>8</td>\n",
       "      <td>5</td>\n",
       "      <td>adapt, boundary, geospatial, linked data, osi,...</td>\n",
       "      <td>http://data.geohive.ie/</td>\n",
       "    </tr>\n",
       "    <tr>\n",
       "      <th>1</th>\n",
       "      <td>HTML, Esri REST, GeoJSON, CSV, KML, ZIP</td>\n",
       "      <td>3054fb53-b1b4-4148-b2ac-11c99524327d</td>\n",
       "      <td>baronies-osi-national-placenames-gazetteer</td>\n",
       "      <td>6</td>\n",
       "      <td>5</td>\n",
       "      <td>3</td>\n",
       "      <td>Baronies, OSi National Placenames Gazetteer, O...</td>\n",
       "      <td>http://data-osi.opendata.arcgis.com/datasets/2...</td>\n",
       "    </tr>\n",
       "    <tr>\n",
       "      <th>2</th>\n",
       "      <td>HTML, Esri REST, GeoJSON, CSV, KML, ZIP</td>\n",
       "      <td>5029a660-de34-41ed-9484-6526d5794a34</td>\n",
       "      <td>centres-of-population-osi-national-placenames-...</td>\n",
       "      <td>6</td>\n",
       "      <td>5</td>\n",
       "      <td>3</td>\n",
       "      <td>Centres of Population, OSi National Placenames...</td>\n",
       "      <td>http://data-osi.opendata.arcgis.com/datasets/a...</td>\n",
       "    </tr>\n",
       "    <tr>\n",
       "      <th>3</th>\n",
       "      <td>HTML, Esri REST, GeoJSON, CSV, KML, ZIP</td>\n",
       "      <td>aa7fe29c-d353-427f-9d88-d8e29699a101</td>\n",
       "      <td>civil-parishes-osi-national-placenames-gazetteer</td>\n",
       "      <td>6</td>\n",
       "      <td>5</td>\n",
       "      <td>3</td>\n",
       "      <td>Civil Parishes, OSi National Placenames Gazett...</td>\n",
       "      <td>http://data-osi.opendata.arcgis.com/datasets/d...</td>\n",
       "    </tr>\n",
       "    <tr>\n",
       "      <th>4</th>\n",
       "      <td>HTML, Esri REST, GeoJSON, CSV, KML, ZIP</td>\n",
       "      <td>c5385677-c7ea-4c1e-bd73-eb7b265250b2</td>\n",
       "      <td>counties-osi-national-placenames-gazetteer</td>\n",
       "      <td>6</td>\n",
       "      <td>6</td>\n",
       "      <td>3</td>\n",
       "      <td>Admin, Counties, OSi National Placenames Gazet...</td>\n",
       "      <td>http://data-osi.opendata.arcgis.com/datasets/8...</td>\n",
       "    </tr>\n",
       "  </tbody>\n",
       "</table>"
      ],
      "text/plain": [
       "<IPython.core.display.HTML object>"
      ]
     },
     "metadata": {},
     "output_type": "display_data"
    }
   ],
   "source": [
    "display(HTML(hg_score_df.head().to_html()))"
   ]
  },
  {
   "cell_type": "code",
   "execution_count": 6,
   "metadata": {},
   "outputs": [
    {
     "data": {
      "text/html": [
       "<div>\n",
       "<style scoped>\n",
       "    .dataframe tbody tr th:only-of-type {\n",
       "        vertical-align: middle;\n",
       "    }\n",
       "\n",
       "    .dataframe tbody tr th {\n",
       "        vertical-align: top;\n",
       "    }\n",
       "\n",
       "    .dataframe thead th {\n",
       "        text-align: right;\n",
       "    }\n",
       "</style>\n",
       "<table border=\"1\" class=\"dataframe\">\n",
       "  <thead>\n",
       "    <tr style=\"text-align: right;\">\n",
       "      <th></th>\n",
       "      <th>Formats</th>\n",
       "      <th>Count</th>\n",
       "    </tr>\n",
       "  </thead>\n",
       "  <tbody>\n",
       "    <tr>\n",
       "      <th>0</th>\n",
       "      <td>HTML</td>\n",
       "      <td>154</td>\n",
       "    </tr>\n",
       "    <tr>\n",
       "      <th>1</th>\n",
       "      <td>Esri REST</td>\n",
       "      <td>154</td>\n",
       "    </tr>\n",
       "    <tr>\n",
       "      <th>2</th>\n",
       "      <td>GeoJSON</td>\n",
       "      <td>154</td>\n",
       "    </tr>\n",
       "    <tr>\n",
       "      <th>3</th>\n",
       "      <td>CSV</td>\n",
       "      <td>154</td>\n",
       "    </tr>\n",
       "    <tr>\n",
       "      <th>4</th>\n",
       "      <td>KML</td>\n",
       "      <td>154</td>\n",
       "    </tr>\n",
       "  </tbody>\n",
       "</table>\n",
       "</div>"
      ],
      "text/plain": [
       "     Formats  Count\n",
       "0       HTML    154\n",
       "1  Esri REST    154\n",
       "2    GeoJSON    154\n",
       "3        CSV    154\n",
       "4        KML    154"
      ]
     },
     "execution_count": 6,
     "metadata": {},
     "output_type": "execute_result"
    }
   ],
   "source": [
    "pd.DataFrame({\"Formats\": list(frmts_cnt.keys()), 'Count': list(frmts_cnt.values())}).head()"
   ]
  },
  {
   "cell_type": "code",
   "execution_count": 7,
   "metadata": {},
   "outputs": [
    {
     "name": "stdout",
     "output_type": "stream",
     "text": [
      "{3: 154, 5: 1}\n",
      "{1: 0, 2: 0, 3: 154, 4: 0, 5: 1}\n"
     ]
    }
   ],
   "source": [
    "print(star_cnt)\n",
    "star_cnt[1] = 0\n",
    "star_cnt[2] = 0\n",
    "star_cnt[4] = 0\n",
    "star_cnt = dict(collections.OrderedDict(sorted(star_cnt.items())))\n",
    "print(star_cnt)"
   ]
  },
  {
   "cell_type": "code",
   "execution_count": 8,
   "metadata": {},
   "outputs": [
    {
     "data": {
      "text/html": [
       "<div>\n",
       "<style scoped>\n",
       "    .dataframe tbody tr th:only-of-type {\n",
       "        vertical-align: middle;\n",
       "    }\n",
       "\n",
       "    .dataframe tbody tr th {\n",
       "        vertical-align: top;\n",
       "    }\n",
       "\n",
       "    .dataframe thead th {\n",
       "        text-align: right;\n",
       "    }\n",
       "</style>\n",
       "<table border=\"1\" class=\"dataframe\">\n",
       "  <thead>\n",
       "    <tr style=\"text-align: right;\">\n",
       "      <th></th>\n",
       "      <th>Tags</th>\n",
       "      <th>Count</th>\n",
       "    </tr>\n",
       "  </thead>\n",
       "  <tbody>\n",
       "    <tr>\n",
       "      <th>0</th>\n",
       "      <td>Baronies</td>\n",
       "      <td>1</td>\n",
       "    </tr>\n",
       "    <tr>\n",
       "      <th>1</th>\n",
       "      <td>OSi National Placenames Gazetteer</td>\n",
       "      <td>7</td>\n",
       "    </tr>\n",
       "    <tr>\n",
       "      <th>2</th>\n",
       "      <td>OpenData</td>\n",
       "      <td>48</td>\n",
       "    </tr>\n",
       "    <tr>\n",
       "      <th>3</th>\n",
       "      <td>administrative</td>\n",
       "      <td>16</td>\n",
       "    </tr>\n",
       "    <tr>\n",
       "      <th>4</th>\n",
       "      <td>placenames</td>\n",
       "      <td>8</td>\n",
       "    </tr>\n",
       "  </tbody>\n",
       "</table>\n",
       "</div>"
      ],
      "text/plain": [
       "                                Tags  Count\n",
       "0                           Baronies      1\n",
       "1  OSi National Placenames Gazetteer      7\n",
       "2                           OpenData     48\n",
       "3                     administrative     16\n",
       "4                         placenames      8"
      ]
     },
     "execution_count": 8,
     "metadata": {},
     "output_type": "execute_result"
    }
   ],
   "source": [
    "pd.DataFrame({\"Tags\": list(tags_cnt.keys()), 'Count': list(tags_cnt.values())}).head()"
   ]
  },
  {
   "cell_type": "markdown",
   "metadata": {},
   "source": [
    "### Extracting Top 5 Datasets of Ordnance Survey Ireland:\n",
    "\n",
    "This selection is based on the star rating of the resources:"
   ]
  },
  {
   "cell_type": "code",
   "execution_count": 9,
   "metadata": {},
   "outputs": [
    {
     "data": {
      "text/html": [
       "<div>\n",
       "<style scoped>\n",
       "    .dataframe tbody tr th:only-of-type {\n",
       "        vertical-align: middle;\n",
       "    }\n",
       "\n",
       "    .dataframe tbody tr th {\n",
       "        vertical-align: top;\n",
       "    }\n",
       "\n",
       "    .dataframe thead th {\n",
       "        text-align: right;\n",
       "    }\n",
       "</style>\n",
       "<table border=\"1\" class=\"dataframe\">\n",
       "  <thead>\n",
       "    <tr style=\"text-align: right;\">\n",
       "      <th></th>\n",
       "      <th>formats</th>\n",
       "      <th>id</th>\n",
       "      <th>name</th>\n",
       "      <th>num_resources</th>\n",
       "      <th>num_tags</th>\n",
       "      <th>star_rating</th>\n",
       "      <th>tags</th>\n",
       "      <th>url</th>\n",
       "    </tr>\n",
       "  </thead>\n",
       "  <tbody>\n",
       "    <tr>\n",
       "      <th>0</th>\n",
       "      <td>ttl, rdf-xml</td>\n",
       "      <td>bf293fc8-cfe5-42a0-a31b-f47b75285f6d</td>\n",
       "      <td>osi-national-statutory-boundary-linked-data</td>\n",
       "      <td>2</td>\n",
       "      <td>8</td>\n",
       "      <td>5</td>\n",
       "      <td>adapt, boundary, geospatial, linked data, osi,...</td>\n",
       "      <td>http://data.geohive.ie/</td>\n",
       "    </tr>\n",
       "    <tr>\n",
       "      <th>1</th>\n",
       "      <td>HTML, Esri REST, GeoJSON, CSV, KML, ZIP</td>\n",
       "      <td>3054fb53-b1b4-4148-b2ac-11c99524327d</td>\n",
       "      <td>baronies-osi-national-placenames-gazetteer</td>\n",
       "      <td>6</td>\n",
       "      <td>5</td>\n",
       "      <td>3</td>\n",
       "      <td>Baronies, OSi National Placenames Gazetteer, O...</td>\n",
       "      <td>http://data-osi.opendata.arcgis.com/datasets/2...</td>\n",
       "    </tr>\n",
       "    <tr>\n",
       "      <th>2</th>\n",
       "      <td>HTML, Esri REST, GeoJSON, CSV, KML, ZIP</td>\n",
       "      <td>5029a660-de34-41ed-9484-6526d5794a34</td>\n",
       "      <td>centres-of-population-osi-national-placenames-...</td>\n",
       "      <td>6</td>\n",
       "      <td>5</td>\n",
       "      <td>3</td>\n",
       "      <td>Centres of Population, OSi National Placenames...</td>\n",
       "      <td>http://data-osi.opendata.arcgis.com/datasets/a...</td>\n",
       "    </tr>\n",
       "    <tr>\n",
       "      <th>3</th>\n",
       "      <td>HTML, Esri REST, GeoJSON, CSV, KML, ZIP</td>\n",
       "      <td>aa7fe29c-d353-427f-9d88-d8e29699a101</td>\n",
       "      <td>civil-parishes-osi-national-placenames-gazetteer</td>\n",
       "      <td>6</td>\n",
       "      <td>5</td>\n",
       "      <td>3</td>\n",
       "      <td>Civil Parishes, OSi National Placenames Gazett...</td>\n",
       "      <td>http://data-osi.opendata.arcgis.com/datasets/d...</td>\n",
       "    </tr>\n",
       "    <tr>\n",
       "      <th>4</th>\n",
       "      <td>HTML, Esri REST, GeoJSON, CSV, KML, ZIP</td>\n",
       "      <td>c5385677-c7ea-4c1e-bd73-eb7b265250b2</td>\n",
       "      <td>counties-osi-national-placenames-gazetteer</td>\n",
       "      <td>6</td>\n",
       "      <td>6</td>\n",
       "      <td>3</td>\n",
       "      <td>Admin, Counties, OSi National Placenames Gazet...</td>\n",
       "      <td>http://data-osi.opendata.arcgis.com/datasets/8...</td>\n",
       "    </tr>\n",
       "  </tbody>\n",
       "</table>\n",
       "</div>"
      ],
      "text/plain": [
       "                                   formats  \\\n",
       "0                             ttl, rdf-xml   \n",
       "1  HTML, Esri REST, GeoJSON, CSV, KML, ZIP   \n",
       "2  HTML, Esri REST, GeoJSON, CSV, KML, ZIP   \n",
       "3  HTML, Esri REST, GeoJSON, CSV, KML, ZIP   \n",
       "4  HTML, Esri REST, GeoJSON, CSV, KML, ZIP   \n",
       "\n",
       "                                     id  \\\n",
       "0  bf293fc8-cfe5-42a0-a31b-f47b75285f6d   \n",
       "1  3054fb53-b1b4-4148-b2ac-11c99524327d   \n",
       "2  5029a660-de34-41ed-9484-6526d5794a34   \n",
       "3  aa7fe29c-d353-427f-9d88-d8e29699a101   \n",
       "4  c5385677-c7ea-4c1e-bd73-eb7b265250b2   \n",
       "\n",
       "                                                name  num_resources  num_tags  \\\n",
       "0        osi-national-statutory-boundary-linked-data              2         8   \n",
       "1         baronies-osi-national-placenames-gazetteer              6         5   \n",
       "2  centres-of-population-osi-national-placenames-...              6         5   \n",
       "3   civil-parishes-osi-national-placenames-gazetteer              6         5   \n",
       "4         counties-osi-national-placenames-gazetteer              6         6   \n",
       "\n",
       "   star_rating                                               tags  \\\n",
       "0            5  adapt, boundary, geospatial, linked data, osi,...   \n",
       "1            3  Baronies, OSi National Placenames Gazetteer, O...   \n",
       "2            3  Centres of Population, OSi National Placenames...   \n",
       "3            3  Civil Parishes, OSi National Placenames Gazett...   \n",
       "4            3  Admin, Counties, OSi National Placenames Gazet...   \n",
       "\n",
       "                                                 url  \n",
       "0                            http://data.geohive.ie/  \n",
       "1  http://data-osi.opendata.arcgis.com/datasets/2...  \n",
       "2  http://data-osi.opendata.arcgis.com/datasets/a...  \n",
       "3  http://data-osi.opendata.arcgis.com/datasets/d...  \n",
       "4  http://data-osi.opendata.arcgis.com/datasets/8...  "
      ]
     },
     "execution_count": 9,
     "metadata": {},
     "output_type": "execute_result"
    }
   ],
   "source": [
    "hg_score_df.to_csv('Top05_org_OSI.csv')\n",
    "hg_score_df.head()"
   ]
  },
  {
   "cell_type": "markdown",
   "metadata": {},
   "source": [
    "### Visualising the metadata\n",
    "\n",
    "#### Viz 1: Star Rating and its count - Ordnance Survey Ireland:"
   ]
  },
  {
   "cell_type": "code",
   "execution_count": 16,
   "metadata": {},
   "outputs": [
    {
     "data": {
      "text/html": [
       "<script type=\"text/javascript\">window.PlotlyConfig = {MathJaxConfig: 'local'};</script><script type=\"text/javascript\">if (window.MathJax) {MathJax.Hub.Config({SVG: {font: \"STIX-Web\"}});}</script><script>requirejs.config({paths: { 'plotly': ['https://cdn.plot.ly/plotly-latest.min']},});if(!window._Plotly) {require(['plotly'],function(plotly) {window._Plotly=plotly;});}</script>"
      ],
      "text/vnd.plotly.v1+html": [
       "<script type=\"text/javascript\">window.PlotlyConfig = {MathJaxConfig: 'local'};</script><script type=\"text/javascript\">if (window.MathJax) {MathJax.Hub.Config({SVG: {font: \"STIX-Web\"}});}</script><script>requirejs.config({paths: { 'plotly': ['https://cdn.plot.ly/plotly-latest.min']},});if(!window._Plotly) {require(['plotly'],function(plotly) {window._Plotly=plotly;});}</script>"
      ]
     },
     "metadata": {},
     "output_type": "display_data"
    },
    {
     "name": "stdout",
     "output_type": "stream",
     "text": [
      "This is the format of your plot grid:\n",
      "[ (1,1) x1,y1 ]  [ (1,2) x2,y2 ]\n",
      "\n"
     ]
    },
    {
     "data": {
      "application/vnd.plotly.v1+json": {
       "config": {
        "linkText": "Export to plot.ly",
        "plotlyServerURL": "https://plot.ly",
        "showLink": true
       },
       "data": [
        {
         "marker": {
          "color": "rgba(50, 171, 96, 0.6)",
          "line": {
           "color": "rgba(50, 171, 96, 1.0)",
           "width": 1
          }
         },
         "name": "Percentage of packages/datasets in a given star rating",
         "orientation": "h",
         "type": "bar",
         "uid": "df13f140-f4c6-4aca-80c2-0d568d3dcc14",
         "x": [
          0,
          0,
          0.9935483870967742,
          0,
          0.0064516129032258064
         ],
         "xaxis": "x",
         "y": [
          "1-star",
          "2-star",
          "3-star",
          "4-star",
          "5-star"
         ],
         "yaxis": "y"
        },
        {
         "line": {
          "color": "rgb(128, 0, 128)"
         },
         "mode": "lines+markers",
         "name": "Number of resources in a given star rating",
         "type": "scatter",
         "uid": "b37cfc99-8291-49c2-8a86-f612ca7386aa",
         "x": [
          0,
          0,
          154,
          0,
          1
         ],
         "xaxis": "x2",
         "y": [
          "1-star",
          "2-star",
          "3-star",
          "4-star",
          "5-star"
         ],
         "yaxis": "y2"
        }
       ],
       "layout": {
        "annotations": [
         {
          "font": {
           "color": "rgb(128, 0, 128)",
           "family": "Arial",
           "size": 12
          },
          "showarrow": false,
          "text": "Count: 0.0",
          "x": -20000,
          "xref": "x2",
          "y": "1-star",
          "yref": "y2"
         },
         {
          "font": {
           "color": "rgb(50, 171, 96)",
           "family": "Arial",
           "size": 12
          },
          "showarrow": false,
          "text": "0.0%",
          "x": 3,
          "xref": "x",
          "y": "1-star",
          "yref": "y"
         },
         {
          "font": {
           "color": "rgb(128, 0, 128)",
           "family": "Arial",
           "size": 12
          },
          "showarrow": false,
          "text": "Count: 0.0",
          "x": -20000,
          "xref": "x2",
          "y": "2-star",
          "yref": "y2"
         },
         {
          "font": {
           "color": "rgb(50, 171, 96)",
           "family": "Arial",
           "size": 12
          },
          "showarrow": false,
          "text": "0.0%",
          "x": 3,
          "xref": "x",
          "y": "2-star",
          "yref": "y"
         },
         {
          "font": {
           "color": "rgb(128, 0, 128)",
           "family": "Arial",
           "size": 12
          },
          "showarrow": false,
          "text": "Count: 154.0",
          "x": -19846,
          "xref": "x2",
          "y": "3-star",
          "yref": "y2"
         },
         {
          "font": {
           "color": "rgb(50, 171, 96)",
           "family": "Arial",
           "size": 12
          },
          "showarrow": false,
          "text": "0.99%",
          "x": 3.99,
          "xref": "x",
          "y": "3-star",
          "yref": "y"
         },
         {
          "font": {
           "color": "rgb(128, 0, 128)",
           "family": "Arial",
           "size": 12
          },
          "showarrow": false,
          "text": "Count: 0.0",
          "x": -20000,
          "xref": "x2",
          "y": "4-star",
          "yref": "y2"
         },
         {
          "font": {
           "color": "rgb(50, 171, 96)",
           "family": "Arial",
           "size": 12
          },
          "showarrow": false,
          "text": "0.0%",
          "x": 3,
          "xref": "x",
          "y": "4-star",
          "yref": "y"
         },
         {
          "font": {
           "color": "rgb(128, 0, 128)",
           "family": "Arial",
           "size": 12
          },
          "showarrow": false,
          "text": "Count: 1.0",
          "x": -19999,
          "xref": "x2",
          "y": "5-star",
          "yref": "y2"
         },
         {
          "font": {
           "color": "rgb(50, 171, 96)",
           "family": "Arial",
           "size": 12
          },
          "showarrow": false,
          "text": "0.01%",
          "x": 3.01,
          "xref": "x",
          "y": "5-star",
          "yref": "y"
         },
         {
          "font": {
           "color": "rgb(150,150,150)",
           "family": "Arial",
           "size": 10
          },
          "showarrow": false,
          "text": "Star Rating Analysis of Ordnance Survey Ireland",
          "x": -0.2,
          "xref": "paper",
          "y": -0.109,
          "yref": "paper"
         }
        ],
        "legend": {
         "font": {
          "size": 10
         },
         "x": 0.029,
         "y": 1.038
        },
        "margin": {
         "b": 70,
         "l": 100,
         "r": 20,
         "t": 70
        },
        "paper_bgcolor": "rgb(248, 248, 255)",
        "plot_bgcolor": "rgb(248, 248, 255)",
        "title": "Analysis of Star Rating vs Datasets for the publisher Ordnance Survey Ireland",
        "xaxis": {
         "anchor": "y",
         "domain": [
          0,
          0.42
         ],
         "showgrid": true,
         "showline": false,
         "showticklabels": true,
         "zeroline": false
        },
        "xaxis2": {
         "anchor": "y2",
         "domain": [
          0.47,
          1
         ],
         "dtick": 25000,
         "showgrid": true,
         "showline": false,
         "showticklabels": true,
         "side": "top",
         "zeroline": false
        },
        "yaxis": {
         "anchor": "x",
         "domain": [
          0,
          0.85
         ],
         "showgrid": false,
         "showline": false,
         "showticklabels": true
        },
        "yaxis2": {
         "anchor": "x2",
         "domain": [
          0,
          0.85
         ],
         "linecolor": "rgba(102, 102, 102, 0.8)",
         "linewidth": 2,
         "showgrid": false,
         "showline": true,
         "showticklabels": false
        }
       }
      },
      "text/html": [
       "<div id=\"87f0b54d-f350-4882-aa44-a19115a9f944\" style=\"height: 525px; width: 100%;\" class=\"plotly-graph-div\"></div><script type=\"text/javascript\">require([\"plotly\"], function(Plotly) { window.PLOTLYENV=window.PLOTLYENV || {};window.PLOTLYENV.BASE_URL=\"https://plot.ly\";Plotly.newPlot(\"87f0b54d-f350-4882-aa44-a19115a9f944\", [{\"marker\": {\"color\": \"rgba(50, 171, 96, 0.6)\", \"line\": {\"color\": \"rgba(50, 171, 96, 1.0)\", \"width\": 1}}, \"name\": \"Percentage of packages/datasets in a given star rating\", \"orientation\": \"h\", \"x\": [0.0, 0.0, 0.9935483870967742, 0.0, 0.0064516129032258064], \"y\": [\"1-star\", \"2-star\", \"3-star\", \"4-star\", \"5-star\"], \"type\": \"bar\", \"uid\": \"df13f140-f4c6-4aca-80c2-0d568d3dcc14\", \"xaxis\": \"x\", \"yaxis\": \"y\"}, {\"line\": {\"color\": \"rgb(128, 0, 128)\"}, \"mode\": \"lines+markers\", \"name\": \"Number of resources in a given star rating\", \"x\": [0, 0, 154, 0, 1], \"y\": [\"1-star\", \"2-star\", \"3-star\", \"4-star\", \"5-star\"], \"type\": \"scatter\", \"uid\": \"b37cfc99-8291-49c2-8a86-f612ca7386aa\", \"xaxis\": \"x2\", \"yaxis\": \"y2\"}], {\"xaxis\": {\"anchor\": \"y\", \"domain\": [0, 0.42], \"zeroline\": false, \"showline\": false, \"showticklabels\": true, \"showgrid\": true}, \"yaxis\": {\"anchor\": \"x\", \"domain\": [0, 0.85], \"showgrid\": false, \"showline\": false, \"showticklabels\": true}, \"xaxis2\": {\"anchor\": \"y2\", \"domain\": [0.47, 1], \"zeroline\": false, \"showline\": false, \"showticklabels\": true, \"showgrid\": true, \"side\": \"top\", \"dtick\": 25000}, \"yaxis2\": {\"anchor\": \"x2\", \"domain\": [0, 0.85], \"showgrid\": false, \"showline\": true, \"showticklabels\": false, \"linecolor\": \"rgba(102, 102, 102, 0.8)\", \"linewidth\": 2}, \"legend\": {\"font\": {\"size\": 10}, \"x\": 0.029, \"y\": 1.038}, \"margin\": {\"l\": 100, \"r\": 20, \"t\": 70, \"b\": 70}, \"title\": \"Analysis of Star Rating vs Datasets for the publisher Ordnance Survey Ireland\", \"paper_bgcolor\": \"rgb(248, 248, 255)\", \"plot_bgcolor\": \"rgb(248, 248, 255)\", \"annotations\": [{\"font\": {\"color\": \"rgb(128, 0, 128)\", \"family\": \"Arial\", \"size\": 12}, \"showarrow\": false, \"text\": \"Count: 0.0\", \"x\": -20000.0, \"xref\": \"x2\", \"y\": \"1-star\", \"yref\": \"y2\"}, {\"font\": {\"color\": \"rgb(50, 171, 96)\", \"family\": \"Arial\", \"size\": 12}, \"showarrow\": false, \"text\": \"0.0%\", \"x\": 3.0, \"xref\": \"x\", \"y\": \"1-star\", \"yref\": \"y\"}, {\"font\": {\"color\": \"rgb(128, 0, 128)\", \"family\": \"Arial\", \"size\": 12}, \"showarrow\": false, \"text\": \"Count: 0.0\", \"x\": -20000.0, \"xref\": \"x2\", \"y\": \"2-star\", \"yref\": \"y2\"}, {\"font\": {\"color\": \"rgb(50, 171, 96)\", \"family\": \"Arial\", \"size\": 12}, \"showarrow\": false, \"text\": \"0.0%\", \"x\": 3.0, \"xref\": \"x\", \"y\": \"2-star\", \"yref\": \"y\"}, {\"font\": {\"color\": \"rgb(128, 0, 128)\", \"family\": \"Arial\", \"size\": 12}, \"showarrow\": false, \"text\": \"Count: 154.0\", \"x\": -19846.0, \"xref\": \"x2\", \"y\": \"3-star\", \"yref\": \"y2\"}, {\"font\": {\"color\": \"rgb(50, 171, 96)\", \"family\": \"Arial\", \"size\": 12}, \"showarrow\": false, \"text\": \"0.99%\", \"x\": 3.99, \"xref\": \"x\", \"y\": \"3-star\", \"yref\": \"y\"}, {\"font\": {\"color\": \"rgb(128, 0, 128)\", \"family\": \"Arial\", \"size\": 12}, \"showarrow\": false, \"text\": \"Count: 0.0\", \"x\": -20000.0, \"xref\": \"x2\", \"y\": \"4-star\", \"yref\": \"y2\"}, {\"font\": {\"color\": \"rgb(50, 171, 96)\", \"family\": \"Arial\", \"size\": 12}, \"showarrow\": false, \"text\": \"0.0%\", \"x\": 3.0, \"xref\": \"x\", \"y\": \"4-star\", \"yref\": \"y\"}, {\"font\": {\"color\": \"rgb(128, 0, 128)\", \"family\": \"Arial\", \"size\": 12}, \"showarrow\": false, \"text\": \"Count: 1.0\", \"x\": -19999.0, \"xref\": \"x2\", \"y\": \"5-star\", \"yref\": \"y2\"}, {\"font\": {\"color\": \"rgb(50, 171, 96)\", \"family\": \"Arial\", \"size\": 12}, \"showarrow\": false, \"text\": \"0.01%\", \"x\": 3.01, \"xref\": \"x\", \"y\": \"5-star\", \"yref\": \"y\"}, {\"font\": {\"color\": \"rgb(150,150,150)\", \"family\": \"Arial\", \"size\": 10}, \"showarrow\": false, \"text\": \"Star Rating Analysis of Ordnance Survey Ireland\", \"x\": -0.2, \"xref\": \"paper\", \"y\": -0.109, \"yref\": \"paper\"}]}, {\"showLink\": true, \"linkText\": \"Export to plot.ly\", \"plotlyServerURL\": \"https://plot.ly\"})});</script><script type=\"text/javascript\">window.addEventListener(\"resize\", function(){window._Plotly.Plots.resize(document.getElementById(\"87f0b54d-f350-4882-aa44-a19115a9f944\"));});</script>"
      ],
      "text/vnd.plotly.v1+html": [
       "<div id=\"87f0b54d-f350-4882-aa44-a19115a9f944\" style=\"height: 525px; width: 100%;\" class=\"plotly-graph-div\"></div><script type=\"text/javascript\">require([\"plotly\"], function(Plotly) { window.PLOTLYENV=window.PLOTLYENV || {};window.PLOTLYENV.BASE_URL=\"https://plot.ly\";Plotly.newPlot(\"87f0b54d-f350-4882-aa44-a19115a9f944\", [{\"marker\": {\"color\": \"rgba(50, 171, 96, 0.6)\", \"line\": {\"color\": \"rgba(50, 171, 96, 1.0)\", \"width\": 1}}, \"name\": \"Percentage of packages/datasets in a given star rating\", \"orientation\": \"h\", \"x\": [0.0, 0.0, 0.9935483870967742, 0.0, 0.0064516129032258064], \"y\": [\"1-star\", \"2-star\", \"3-star\", \"4-star\", \"5-star\"], \"type\": \"bar\", \"uid\": \"df13f140-f4c6-4aca-80c2-0d568d3dcc14\", \"xaxis\": \"x\", \"yaxis\": \"y\"}, {\"line\": {\"color\": \"rgb(128, 0, 128)\"}, \"mode\": \"lines+markers\", \"name\": \"Number of resources in a given star rating\", \"x\": [0, 0, 154, 0, 1], \"y\": [\"1-star\", \"2-star\", \"3-star\", \"4-star\", \"5-star\"], \"type\": \"scatter\", \"uid\": \"b37cfc99-8291-49c2-8a86-f612ca7386aa\", \"xaxis\": \"x2\", \"yaxis\": \"y2\"}], {\"xaxis\": {\"anchor\": \"y\", \"domain\": [0, 0.42], \"zeroline\": false, \"showline\": false, \"showticklabels\": true, \"showgrid\": true}, \"yaxis\": {\"anchor\": \"x\", \"domain\": [0, 0.85], \"showgrid\": false, \"showline\": false, \"showticklabels\": true}, \"xaxis2\": {\"anchor\": \"y2\", \"domain\": [0.47, 1], \"zeroline\": false, \"showline\": false, \"showticklabels\": true, \"showgrid\": true, \"side\": \"top\", \"dtick\": 25000}, \"yaxis2\": {\"anchor\": \"x2\", \"domain\": [0, 0.85], \"showgrid\": false, \"showline\": true, \"showticklabels\": false, \"linecolor\": \"rgba(102, 102, 102, 0.8)\", \"linewidth\": 2}, \"legend\": {\"font\": {\"size\": 10}, \"x\": 0.029, \"y\": 1.038}, \"margin\": {\"l\": 100, \"r\": 20, \"t\": 70, \"b\": 70}, \"title\": \"Analysis of Star Rating vs Datasets for the publisher Ordnance Survey Ireland\", \"paper_bgcolor\": \"rgb(248, 248, 255)\", \"plot_bgcolor\": \"rgb(248, 248, 255)\", \"annotations\": [{\"font\": {\"color\": \"rgb(128, 0, 128)\", \"family\": \"Arial\", \"size\": 12}, \"showarrow\": false, \"text\": \"Count: 0.0\", \"x\": -20000.0, \"xref\": \"x2\", \"y\": \"1-star\", \"yref\": \"y2\"}, {\"font\": {\"color\": \"rgb(50, 171, 96)\", \"family\": \"Arial\", \"size\": 12}, \"showarrow\": false, \"text\": \"0.0%\", \"x\": 3.0, \"xref\": \"x\", \"y\": \"1-star\", \"yref\": \"y\"}, {\"font\": {\"color\": \"rgb(128, 0, 128)\", \"family\": \"Arial\", \"size\": 12}, \"showarrow\": false, \"text\": \"Count: 0.0\", \"x\": -20000.0, \"xref\": \"x2\", \"y\": \"2-star\", \"yref\": \"y2\"}, {\"font\": {\"color\": \"rgb(50, 171, 96)\", \"family\": \"Arial\", \"size\": 12}, \"showarrow\": false, \"text\": \"0.0%\", \"x\": 3.0, \"xref\": \"x\", \"y\": \"2-star\", \"yref\": \"y\"}, {\"font\": {\"color\": \"rgb(128, 0, 128)\", \"family\": \"Arial\", \"size\": 12}, \"showarrow\": false, \"text\": \"Count: 154.0\", \"x\": -19846.0, \"xref\": \"x2\", \"y\": \"3-star\", \"yref\": \"y2\"}, {\"font\": {\"color\": \"rgb(50, 171, 96)\", \"family\": \"Arial\", \"size\": 12}, \"showarrow\": false, \"text\": \"0.99%\", \"x\": 3.99, \"xref\": \"x\", \"y\": \"3-star\", \"yref\": \"y\"}, {\"font\": {\"color\": \"rgb(128, 0, 128)\", \"family\": \"Arial\", \"size\": 12}, \"showarrow\": false, \"text\": \"Count: 0.0\", \"x\": -20000.0, \"xref\": \"x2\", \"y\": \"4-star\", \"yref\": \"y2\"}, {\"font\": {\"color\": \"rgb(50, 171, 96)\", \"family\": \"Arial\", \"size\": 12}, \"showarrow\": false, \"text\": \"0.0%\", \"x\": 3.0, \"xref\": \"x\", \"y\": \"4-star\", \"yref\": \"y\"}, {\"font\": {\"color\": \"rgb(128, 0, 128)\", \"family\": \"Arial\", \"size\": 12}, \"showarrow\": false, \"text\": \"Count: 1.0\", \"x\": -19999.0, \"xref\": \"x2\", \"y\": \"5-star\", \"yref\": \"y2\"}, {\"font\": {\"color\": \"rgb(50, 171, 96)\", \"family\": \"Arial\", \"size\": 12}, \"showarrow\": false, \"text\": \"0.01%\", \"x\": 3.01, \"xref\": \"x\", \"y\": \"5-star\", \"yref\": \"y\"}, {\"font\": {\"color\": \"rgb(150,150,150)\", \"family\": \"Arial\", \"size\": 10}, \"showarrow\": false, \"text\": \"Star Rating Analysis of Ordnance Survey Ireland\", \"x\": -0.2, \"xref\": \"paper\", \"y\": -0.109, \"yref\": \"paper\"}]}, {\"showLink\": true, \"linkText\": \"Export to plot.ly\", \"plotlyServerURL\": \"https://plot.ly\"})});</script><script type=\"text/javascript\">window.addEventListener(\"resize\", function(){window._Plotly.Plots.resize(document.getElementById(\"87f0b54d-f350-4882-aa44-a19115a9f944\"));});</script>"
      ]
     },
     "metadata": {},
     "output_type": "display_data"
    },
    {
     "ename": "AttributeError",
     "evalue": "module 'plotly.offline' has no attribute 'image'",
     "output_type": "error",
     "traceback": [
      "\u001b[0;31m---------------------------------------------------------------------------\u001b[0m",
      "\u001b[0;31mAttributeError\u001b[0m                            Traceback (most recent call last)",
      "\u001b[0;32m<ipython-input-16-5667b37ee135>\u001b[0m in \u001b[0;36m<module>\u001b[0;34m()\u001b[0m\n\u001b[1;32m    123\u001b[0m \u001b[0mfig\u001b[0m\u001b[0;34m[\u001b[0m\u001b[0;34m'layout'\u001b[0m\u001b[0;34m]\u001b[0m\u001b[0;34m.\u001b[0m\u001b[0mupdate\u001b[0m\u001b[0;34m(\u001b[0m\u001b[0mlayout\u001b[0m\u001b[0;34m)\u001b[0m\u001b[0;34m\u001b[0m\u001b[0m\n\u001b[1;32m    124\u001b[0m \u001b[0miplot\u001b[0m\u001b[0;34m(\u001b[0m\u001b[0mfig\u001b[0m\u001b[0;34m,\u001b[0m \u001b[0mfilename\u001b[0m\u001b[0;34m=\u001b[0m\u001b[0;34m'oecd-networth-saving-bar-line'\u001b[0m\u001b[0;34m)\u001b[0m\u001b[0;34m\u001b[0m\u001b[0m\n\u001b[0;32m--> 125\u001b[0;31m \u001b[0mpo\u001b[0m\u001b[0;34m.\u001b[0m\u001b[0mimage\u001b[0m\u001b[0;34m.\u001b[0m\u001b[0msave_as\u001b[0m\u001b[0;34m(\u001b[0m\u001b[0mfig\u001b[0m\u001b[0;34m,\u001b[0m \u001b[0;34m'star_rating.png'\u001b[0m\u001b[0;34m)\u001b[0m\u001b[0;34m\u001b[0m\u001b[0m\n\u001b[0m\u001b[1;32m    126\u001b[0m \u001b[0miplot\u001b[0m\u001b[0;34m(\u001b[0m\u001b[0mfig\u001b[0m\u001b[0;34m,\u001b[0m \u001b[0mfilename\u001b[0m\u001b[0;34m=\u001b[0m\u001b[0;34m'oecd-networth-saving-bar-line'\u001b[0m\u001b[0;34m)\u001b[0m\u001b[0;34m\u001b[0m\u001b[0m\n",
      "\u001b[0;31mAttributeError\u001b[0m: module 'plotly.offline' has no attribute 'image'"
     ]
    }
   ],
   "source": [
    "import plotly.plotly as py\n",
    "import plotly.graph_objs as go\n",
    "from plotly import tools\n",
    "import numpy as np\n",
    "from plotly.offline import init_notebook_mode, iplot\n",
    "import plotly.offline as po\n",
    "\n",
    "init_notebook_mode(connected=True)\n",
    "\n",
    "y_saving = list(np.asarray(list(star_cnt.values()))/sum(star_cnt.values()))\n",
    "y_net_worth = list(star_cnt.values())\n",
    "                \n",
    "x_saving = ['1-star', '2-star', '3-star', '4-star', '5-star']\n",
    "x_net_worth = ['1-star', '2-star', '3-star', '4-star', '5-star']\n",
    "\n",
    "trace0 = go.Bar(\n",
    "    x=y_saving,\n",
    "    y=x_saving,\n",
    "    marker=dict(\n",
    "        color='rgba(50, 171, 96, 0.6)',\n",
    "        line=dict(\n",
    "            color='rgba(50, 171, 96, 1.0)',\n",
    "            width=1),\n",
    "    ),\n",
    "    name='Percentage of packages/datasets in a given star rating',\n",
    "    orientation='h',\n",
    ")\n",
    "trace1 = go.Scatter(\n",
    "    x=y_net_worth,\n",
    "    y=x_net_worth,\n",
    "    mode='lines+markers',\n",
    "    line=dict(\n",
    "        color='rgb(128, 0, 128)'),\n",
    "    name='Number of resources in a given star rating',\n",
    ")\n",
    "layout = dict(\n",
    "    title='Analysis of Star Rating vs Datasets for the publisher Ordnance Survey Ireland',\n",
    "    yaxis=dict(\n",
    "        showgrid=False,\n",
    "        showline=False,\n",
    "        showticklabels=True,\n",
    "        domain=[0, 0.85],\n",
    "    ),\n",
    "    yaxis2=dict(\n",
    "        showgrid=False,\n",
    "        showline=True,\n",
    "        showticklabels=False,\n",
    "        linecolor='rgba(102, 102, 102, 0.8)',\n",
    "        linewidth=2,\n",
    "        domain=[0, 0.85],\n",
    "    ),\n",
    "    xaxis=dict(\n",
    "        zeroline=False,\n",
    "        showline=False,\n",
    "        showticklabels=True,\n",
    "        showgrid=True,\n",
    "        domain=[0, 0.42],\n",
    "    ),\n",
    "    xaxis2=dict(\n",
    "        zeroline=False,\n",
    "        showline=False,\n",
    "        showticklabels=True,\n",
    "        showgrid=True,\n",
    "        domain=[0.47, 1],\n",
    "        side='top',\n",
    "        dtick=25000,\n",
    "    ),\n",
    "    legend=dict(\n",
    "        x=0.029,\n",
    "        y=1.038,\n",
    "        font=dict(\n",
    "            size=10,\n",
    "        ),\n",
    "    ),\n",
    "    margin=dict(\n",
    "        l=100,\n",
    "        r=20,\n",
    "        t=70,\n",
    "        b=70,\n",
    "    ),\n",
    "    paper_bgcolor='rgb(248, 248, 255)',\n",
    "    plot_bgcolor='rgb(248, 248, 255)',\n",
    ")\n",
    "\n",
    "annotations = []\n",
    "\n",
    "y_s = np.round(y_saving, decimals=2)\n",
    "y_nw = np.rint(y_net_worth)\n",
    "\n",
    "# Adding labels\n",
    "for ydn, yd, xd in zip(y_nw, y_s, x_saving):\n",
    "    # labeling the scatter savings\n",
    "    annotations.append(dict(xref='x2', yref='y2',\n",
    "                            y=xd, x=ydn - 20000,\n",
    "                            text='Count: '+'{:,}'.format(ydn),\n",
    "                            font=dict(family='Arial', size=12,\n",
    "                                      color='rgb(128, 0, 128)'),\n",
    "                            showarrow=False))\n",
    "    # labeling the bar net worth\n",
    "    annotations.append(dict(xref='x1', yref='y1',\n",
    "                            y=xd, x=yd + 3,\n",
    "                            text=str(yd) + '%',\n",
    "                            font=dict(family='Arial', size=12,\n",
    "                                      color='rgb(50, 171, 96)'),\n",
    "                            showarrow=False))\n",
    "# Source\n",
    "annotations.append(dict(xref='paper', yref='paper',\n",
    "                        x=-0.2, y=-0.109,\n",
    "                        text='Star Rating Analysis of Ordnance Survey Ireland',\n",
    "                        font=dict(family='Arial', size=10,\n",
    "                                  color='rgb(150,150,150)'),\n",
    "                        showarrow=False))\n",
    "\n",
    "layout['annotations'] = annotations\n",
    "\n",
    "# Creating two subplots\n",
    "fig = tools.make_subplots(rows=1, cols=2, specs=[[{}, {}]], shared_xaxes=True,\n",
    "                          shared_yaxes=False, vertical_spacing=0.001)\n",
    "\n",
    "fig.append_trace(trace0, 1, 1)\n",
    "fig.append_trace(trace1, 1, 2)\n",
    "\n",
    "fig['layout'].update(layout)\n",
    "iplot(fig, filename='oecd-networth-saving-bar-line')\n",
    "#py.image.save_as(fig, 'star_rating.png')\n",
    "iplot(fig, filename='oecd-networth-saving-bar-line')"
   ]
  },
  {
   "cell_type": "markdown",
   "metadata": {},
   "source": [
    "#### Viz 2 - Available data formats in Ordnance Survey Ireland:"
   ]
  },
  {
   "cell_type": "code",
   "execution_count": null,
   "metadata": {},
   "outputs": [],
   "source": [
    "frmt_df = pd.DataFrame({'Dataset Format': list(frmts_cnt.keys()), 'Count': list(frmts_cnt.values())})\n",
    "frmt_df_cpy = frmt_df.copy()\n",
    "import plotly.plotly as py\n",
    "import plotly.graph_objs as go\n",
    "\n",
    "data = [\n",
    "    go.Scatterpolar(\n",
    "      r = list(np.asarray(list(frmts_cnt.values()))/sum(list(frmts_cnt.values()))),\n",
    "      theta = list(frmts_cnt.keys()),\n",
    "      fill = 'toself',\n",
    "      name = 'Datasets formats and its counts'\n",
    "    )\n",
    "]\n",
    "\n",
    "layout = go.Layout(\n",
    "    title = \"Available Data Formats (%) in Ordance Survey Ireland\",\n",
    "  polar = dict(\n",
    "    radialaxis = dict(\n",
    "      visible = True,\n",
    "      range = [0, 0.5]\n",
    "    )\n",
    "  ),\n",
    "  showlegend = True\n",
    ")\n",
    "\n",
    "fig1 = go.Figure(data=data, layout=layout)\n",
    "py.iplot(fig1, filename = \"radar\")\n",
    "#plotly.offline.plot(fig1, filename='radar', image='png')"
   ]
  },
  {
   "cell_type": "markdown",
   "metadata": {},
   "source": [
    "#### Vis 3 - Percentage of data fromats"
   ]
  },
  {
   "cell_type": "code",
   "execution_count": null,
   "metadata": {},
   "outputs": [],
   "source": [
    "import plotly.plotly as py\n",
    "import plotly.graph_objs as go\n",
    "\n",
    "fig2 = {\n",
    "  \"data\": [\n",
    "    {\n",
    "      \"values\": list(np.asarray(list(dict(frmt_df_cpy.groupby('Dataset Format')['Count'].agg('sum')).values()))/sum(list(dict(frmt_df_cpy.groupby('Dataset Format')['Count'].agg('sum')).values()))),\n",
    "      \"labels\": list(dict(frmt_df_cpy.groupby('Dataset Format')['Count'].agg('sum')).keys()),\n",
    "      \"name\": '% of count',\n",
    "      \"hoverinfo\":\"label+percent+name\",\n",
    "      \"hole\": .4,\n",
    "      \"type\": \"pie\"\n",
    "    }],\n",
    "  \"layout\": {\n",
    "        \"title\":\"Distribution of datsets formats\",\n",
    "        \"annotations\": [\n",
    "            {\n",
    "                \"font\": {\n",
    "                    \"size\": 11\n",
    "                },\n",
    "                \"showarrow\": False,\n",
    "                \"text\": \"Formats\",\n",
    "                \"x\": 0.16,\n",
    "                \"y\": 0.5\n",
    "            }\n",
    "        ]\n",
    "    }\n",
    "}\n",
    "\n",
    "py.iplot(fig2, filename='donut')\n",
    "py.image.save_as(fig2, 'pie_format.png')\n",
    "py.iplot(fig2, filename='donut')"
   ]
  },
  {
   "cell_type": "markdown",
   "metadata": {},
   "source": [
    "#### Viz 4 (word cloud) - Most frequent Tags in Ordance Survey Ireland:"
   ]
  },
  {
   "cell_type": "code",
   "execution_count": null,
   "metadata": {},
   "outputs": [],
   "source": [
    "from wordcloud import WordCloud, STOPWORDS, ImageColorGenerator\n",
    "from PIL import Image\n",
    "import matplotlib.pyplot as plt\n",
    "\n",
    "wc = WordCloud(background_color=\"white\", max_words=200, relative_scaling=0.5, normalize_plurals=False).generate_from_frequencies(tags_cnt)\n",
    "\n",
    "plt.figure()\n",
    "plt.title(\"Tags in Organization Survey of Ireland\")\n",
    "plt.imshow(wc, interpolation=\"bilinear\")\n",
    "plt.axis(\"off\")\n",
    "plt.savefig('tag_wordcloud', dpi=500)\n",
    "plt.show()"
   ]
  },
  {
   "cell_type": "markdown",
   "metadata": {},
   "source": [
    "### Viz 4: Top 40 tags in Ordnance Survey Ireland"
   ]
  },
  {
   "cell_type": "code",
   "execution_count": null,
   "metadata": {},
   "outputs": [],
   "source": [
    "import plotly.plotly as py\n",
    "import plotly.graph_objs as go\n",
    "\n",
    "tags_cnt_ordr = dict(sorted(tags_cnt.items(), key=lambda x: x[1], reverse=True))\n",
    "\n",
    "data = [go.Bar(\n",
    "            x=list(tags_cnt_ordr.keys())[:40],\n",
    "            y=list(tags_cnt_ordr.values())[:40],\n",
    "            name = \"Count: \"\n",
    "    )]\n",
    "\n",
    "\n",
    "layout = go.Layout(\n",
    "    title='Top 40 tags in organization - Ordance Survey Ireland',\n",
    "    xaxis=dict(\n",
    "        title='Tag Words',\n",
    "        tickangle=-45,\n",
    "        titlefont=dict(\n",
    "            family='Courier New, monospace',\n",
    "            size=18,\n",
    "            color='#7f7f7f'\n",
    "        )\n",
    "    ),\n",
    "    yaxis=dict(\n",
    "        title='Tag Count',\n",
    "        titlefont=dict(\n",
    "            family='Courier New, monospace',\n",
    "            size=18,\n",
    "            color='#7f7f7f'\n",
    "        )\n",
    "    )\n",
    ")\n",
    "\n",
    "fig3 = go.Figure(data=data, layout=layout)\n",
    "py.iplot(fig3, filename='horizontal-bar')\n",
    "py.image.save_as(fig3, 'tag_bar.png')\n",
    "py.iplot(fig3, filename='horizontal-bar')"
   ]
  },
  {
   "cell_type": "markdown",
   "metadata": {},
   "source": [
    "## Publisher dashboard: Ordnance Survey Ireland"
   ]
  },
  {
   "cell_type": "code",
   "execution_count": null,
   "metadata": {},
   "outputs": [],
   "source": [
    "import numpy as np\n",
    "import matplotlib.pylab as pl\n",
    "import matplotlib.gridspec as gridspec\n",
    "rcParams['figure.figsize'] = 16 ,21\n",
    "\n",
    "# Create 2x2 sub plots\n",
    "gs = gridspec.GridSpec(3, 2)\n",
    "gs.update(wspace=0, hspace=0)\n",
    "\n",
    "pl.figure()\n",
    "ax = pl.subplot(gs[0, :])\n",
    "ax.axis('off')\n",
    "pl.imshow(img_E)\n",
    "\n",
    "ax = pl.subplot(gs[1, 0]) \n",
    "ax.axis('off')\n",
    "pl.imshow(img_A)\n",
    "\n",
    "ax = pl.subplot(gs[1, 1])\n",
    "ax.axis('off')\n",
    "pl.imshow(img_B)\n",
    "\n",
    "ax = pl.subplot(gs[2, 0])\n",
    "ax.axis('off')\n",
    "pl.imshow(img_C)\n",
    "\n",
    "ax = pl.subplot(gs[2, 1])\n",
    "ax.axis('off')\n",
    "pl.imshow(img_D)\n",
    "pl.suptitle(\"DGI - Ordance Survey Ireland Dashboard\", fontsize=14, fontweight=1)\n",
    "pl.subplots_adjust(top=0.95)\n",
    "pl.savefig('dashboard_dgi', dpi=500)"
   ]
  }
 ],
 "metadata": {
  "kernelspec": {
   "display_name": "Python 3",
   "language": "python",
   "name": "python3"
  },
  "language_info": {
   "codemirror_mode": {
    "name": "ipython",
    "version": 3
   },
   "file_extension": ".py",
   "mimetype": "text/x-python",
   "name": "python",
   "nbconvert_exporter": "python",
   "pygments_lexer": "ipython3",
   "version": "3.7.0"
  }
 },
 "nbformat": 4,
 "nbformat_minor": 2
}
